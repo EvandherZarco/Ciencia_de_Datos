{
 "cells": [
  {
   "cell_type": "markdown",
   "metadata": {},
   "source": [
    "# Introducción\n",
    "\n",
    "En esta clase, continuaremos explorando las capacidades de `pandas` para la manipulación y análisis de datos. Usaremos el dataset Titanic para aprender sobre el tratamiento de datos faltantes, la conversión de tipos de datos, la transformación de datos usando Z-score y la creación de nuevas variables derivadas.\n",
    "\n",
    "## Carga y Exploración del Dataset Titanic\n",
    "\n",
    "Cargaremos el dataset Titanic utilizando la biblioteca `seaborn` y realizaremos una exploración inicial para entender su estructura y contenido."
   ]
  },
  {
   "cell_type": "code",
   "execution_count": null,
   "metadata": {},
   "outputs": [],
   "source": [
    "import seaborn as sns\n",
    "import pandas as pd\n",
    "\n",
    "# Cargar el dataset Titanic\n",
    "titanic = sns.load_dataset('titanic')\n",
    "\n",
    "# Mostrar las primeras filas del dataset\n",
    "titanic.head()"
   ]
  },
  {
   "cell_type": "code",
   "execution_count": null,
   "metadata": {},
   "outputs": [],
   "source": [
    "type(titanic)"
   ]
  },
  {
   "cell_type": "markdown",
   "metadata": {},
   "source": [
    "## Descripción de las Columnas del Conjunto de Datos Titanic\n",
    "\n",
    "El conjunto de datos del Titanic contiene información sobre los pasajeros del famoso barco que se hundió en 1912. A continuación se describen las columnas de este conjunto de datos:\n",
    "\n",
    "- **survived**: Indica si el pasajero sobrevivió (1) o no (0).\n",
    "- **pclass**: Clase del billete del pasajero, donde 1 es la primera clase, 2 es la segunda clase y 3 es la tercera clase.\n",
    "- **sex**: Género del pasajero (`male` o `female`).\n",
    "- **age**: Edad del pasajero.\n",
    "- **sibsp**: Número de hermanos/esposos a bordo del Titanic.\n",
    "- **parch**: Número de padres/hijos a bordo del Titanic.\n",
    "- **fare**: Tarifa pagada por el billete del pasajero.\n",
    "- **embarked**: Puerto de embarque del pasajero, donde `C` es Cherburgo, `Q` es Queenstown y `S` es Southampton.\n",
    "- **class**: Clase del billete del pasajero (como categoría), similar a `pclass`.\n",
    "- **who**: Descripción simplificada del pasajero (`man`, `woman`, `child`).\n",
    "- **adult_male**: Indica si el pasajero es un hombre adulto (`True` o `False`).\n",
    "- **deck**: Cubierta en la que se encontraba el camarote del pasajero (identificada por una letra).\n",
    "- **embark_town**: Nombre del puerto de embarque (`Cherbourg`, `Queenstown`, `Southampton`).\n",
    "- **alive**: Indica si el pasajero sobrevivió (`yes`) o no (`no`).\n",
    "- **alone**: Indica si el pasajero estaba solo (`True`) o no (`False`)."
   ]
  },
  {
   "cell_type": "code",
   "execution_count": null,
   "metadata": {},
   "outputs": [],
   "source": [
    "# Información básica sobre el dataset\n",
    "titanic.info()"
   ]
  },
  {
   "cell_type": "code",
   "execution_count": null,
   "metadata": {},
   "outputs": [],
   "source": [
    "# Estadísticas descriptivas\n",
    "titanic.describe(include='all')"
   ]
  },
  {
   "cell_type": "markdown",
   "metadata": {},
   "source": [
    "## Tratamiento de Datos Faltantes\n",
    "\n",
    "### Problema de los Datos Faltantes\n",
    "\n",
    "En cualquier conjunto de datos del mundo real, es común encontrar datos faltantes. Estos pueden ocurrir por diversas razones, como errores en la recolección de datos, datos perdidos o no registrados, o simplemente porque la información no está disponible.\n",
    "\n",
    "### Importancia de Tratar los Datos Faltantes\n",
    "\n",
    "Los datos faltantes pueden afectar el análisis y la interpretación de los datos de varias maneras:\n",
    "- **Bias en los Resultados:** Los análisis pueden ser sesgados si se ignoran los datos faltantes.\n",
    "- **Reducción del Poder Estadístico:** Menos datos disponibles pueden llevar a resultados menos confiables.\n",
    "- **Problemas con Algoritmos de Machine Learning:** Muchos algoritmos no pueden manejar datos faltantes y fallarán si no se tratan adecuadamente.\n",
    "\n",
    "### Estrategias para Tratar Datos Faltantes\n",
    "\n",
    "Hay varias estrategias para tratar los datos faltantes, cada una con sus ventajas y desventajas. Las más comunes incluyen:\n",
    "\n",
    "1. **Eliminación de Filas o Columnas:**\n",
    "    - **Pros:** Sencillo y fácil de implementar.\n",
    "    - **Contras:** Puede resultar en la pérdida de una cantidad significativa de datos.\n",
    "    - **Uso:** Cuando hay pocos datos faltantes y no se pierde información crítica.\n",
    "\n",
    "2. **Imputación de Datos:**\n",
    "    - **Imputación con la Media:**\n",
    "        - **Pros:** Simple y mantiene el tamaño del dataset.\n",
    "        - **Contras:** Puede introducir bias si los datos faltantes no son aleatorios.\n",
    "        - **Uso:** Cuando los datos faltantes son relativamente pocos y se distribuyen aleatoriamente.\n",
    "\n",
    "    - **Imputación con la Mediana:**\n",
    "        - **Pros:** Útil para datos con outliers, ya que la mediana no es sensible a valores extremos.\n",
    "        - **Contras:** Similar a la imputación con la media, puede no ser apropiada para datos no aleatorios.\n",
    "        - **Uso:** Para datos con distribución asimétrica.\n",
    "\n",
    "    - **Imputación con un Valor Constante:**\n",
    "        - **Pros:** Útil para ciertas variables categóricas.\n",
    "        - **Contras:** Puede introducir bias significativo.\n",
    "        - **Uso:** Cuando se quiere marcar claramente los datos imputados.\n",
    "\n",
    "    - **Imputación con Métodos Avanzados (por ejemplo, K-Nearest Neighbors, Regresión):**\n",
    "        - **Pros:** Más precisos, pueden utilizar la correlación entre variables.\n",
    "        - **Contras:** Más complejos y requieren más tiempo computacional.\n",
    "        - **Uso:** Para datasets grandes y cuando la precisión es crucial.\n",
    "\n",
    "### Ejemplo Práctico: Tratamiento de Datos Faltantes en el Dataset Titanic\n",
    "\n",
    "Usaremos el dataset Titanic para demostrar cómo identificar y tratar datos faltantes. Primero, identificaremos los datos faltantes y luego probaremos la imputación con la media."
   ]
  },
  {
   "cell_type": "code",
   "execution_count": null,
   "metadata": {},
   "outputs": [],
   "source": [
    "# Identificar datos faltantes\n",
    "titanic.isnull().sum()"
   ]
  },
  {
   "cell_type": "markdown",
   "metadata": {},
   "source": [
    "El código anterior carga el dataset Titanic y utiliza el método `.isnull().sum()` para contar el número de valores faltantes en cada columna.\n",
    "\n",
    "### Descripción de la Columna 'age'\n",
    "\n",
    "Para tomar una decisión informada sobre cómo tratar los datos faltantes en la columna `age`, primero describimos la distribución de los datos en esta columna."
   ]
  },
  {
   "cell_type": "code",
   "execution_count": null,
   "metadata": {},
   "outputs": [],
   "source": [
    "# Describir la columna 'age' para entender su distribución\n",
    "print(titanic['age'].describe())"
   ]
  },
  {
   "cell_type": "markdown",
   "metadata": {},
   "source": [
    "El método `.describe()` genera estadísticas descriptivas que incluyen la cuenta (count), la media (mean), la desviación estándar (std), los valores mínimo (min) y máximo (max), así como los cuartiles (25%, 50%, 75%).\n",
    "\n",
    "### Cálculo de la Media de la Columna 'age'\n",
    "\n",
    "Calculamos la media de la columna `age`. La media es un valor útil para imputar datos faltantes si se asume que los valores faltantes están distribuidos aleatoriamente alrededor de la media."
   ]
  },
  {
   "cell_type": "code",
   "execution_count": null,
   "metadata": {},
   "outputs": [],
   "source": [
    "# Calcular la media de la columna 'age'\n",
    "media_edad = titanic['age'].mean()\n",
    "print(media_edad)"
   ]
  },
  {
   "cell_type": "markdown",
   "metadata": {},
   "source": [
    "### Imputación de Datos Faltantes con la Media\n",
    "\n",
    "Usamos la media calculada para rellenar los valores faltantes en la columna `age`. Esto se hace con el método `fillna()` de pandas."
   ]
  },
  {
   "cell_type": "code",
   "execution_count": null,
   "metadata": {},
   "outputs": [],
   "source": [
    "# Rellenar valores faltantes en la columna 'age' con la media\n",
    "titanic['age'].fillna(media_edad, inplace=True)"
   ]
  },
  {
   "cell_type": "markdown",
   "metadata": {},
   "source": [
    "- `fillna(value)` reemplaza los valores faltantes (NA/NaN) con un valor especificado (`value`), en este caso, la media de la columna `age`.\n",
    "\n",
    "- `inplace=True` significa que la operación se realiza en el mismo DataFrame, sin necesidad de asignar el resultado a una nueva variable. Esto modifica el DataFrame original directamente.\n",
    "\n",
    "#### Verificación de la Imputación\n",
    "\n",
    "Finalmente, verificamos que no queden valores faltantes en la columna `age`."
   ]
  },
  {
   "cell_type": "code",
   "execution_count": null,
   "metadata": {},
   "outputs": [],
   "source": [
    "# Identificar datos faltantes\n",
    "titanic.isnull().sum()"
   ]
  },
  {
   "cell_type": "markdown",
   "metadata": {},
   "source": [
    "### Imputación de Datos Faltantes en la Columna `deck`\n",
    "\n",
    "#### Razonamiento detrás de la Imputación\n",
    "\n",
    "La columna `deck` en el dataset Titanic indica la cubierta en la que se encontraba cada pasajero. Sin embargo, esta información no siempre se registraba, resultando en un alto número de valores faltantes. Los datos faltantes pueden afectar negativamente cualquier análisis que desee realizarse, ya que la falta de datos puede sesgar los resultados y reducir la precisión de cualquier modelo predictivo.\n",
    "\n",
    "#### Estrategias para Imputar Valores Faltantes\n",
    "\n",
    "1. **Imputación con un Valor Constante:**\n",
    "    - **Pros:** Es una estrategia sencilla y fácil de implementar. Rellenar los valores faltantes con una categoría como `'Desconocido'` permite mantener el tamaño del dataset y no pierde información sobre los registros con datos faltantes.\n",
    "    - **Contras:** Esta estrategia puede introducir un sesgo si los datos faltantes no son aleatorios. No aporta información adicional, pero permite que el análisis continúe sin errores debido a valores nulos.\n",
    "\n",
    "2. **Imputación Basada en Frecuencia:**\n",
    "    - **Pros:** Rellenar con el valor más frecuente puede ser apropiado si se asume que los datos faltantes se distribuyen de manera similar a los datos no faltantes.\n",
    "    - **Contras:** Puede no ser preciso si la frecuencia del valor más común no representa correctamente los datos faltantes.\n",
    "\n",
    "3. **Imputación Basada en Agrupación:**\n",
    "    - **Pros:** Utiliza información adicional de otras columnas para inferir los valores faltantes, lo que puede proporcionar una imputación más precisa.\n",
    "    - **Contras:** Es más complejo y requiere un análisis detallado de las relaciones entre las columnas.\n",
    "\n",
    "4. **Eliminar la Columna:**\n",
    "    - **Pros:** Útil si la columna no es crítica para el análisis.\n",
    "    - **Contras:** Se pierde la información contenida en la columna, aunque esté incompleta.\n",
    "\n",
    "#### Decisión\n",
    "\n",
    "Dado el alto número de valores faltantes en la columna `deck`, optamos por la imputación con un valor constante, `'Desconocido'`. Esta decisión se basa en la simplicidad y la claridad que aporta esta estrategia, especialmente en un contexto educativo donde el objetivo es aprender técnicas de manejo de datos faltantes. Además, este enfoque permite que la columna `deck` siga estando presente en el análisis sin causar problemas debido a los valores nulos.\n",
    "\n",
    "#### Implementación en Python\n",
    "\n",
    "A continuación, se muestra cómo imputar los valores faltantes en la columna `deck` con el valor `'Desconocido'` utilizando `pandas`."
   ]
  },
  {
   "cell_type": "code",
   "execution_count": null,
   "metadata": {},
   "outputs": [],
   "source": [
    "titanic.info()"
   ]
  },
  {
   "cell_type": "code",
   "execution_count": null,
   "metadata": {},
   "outputs": [],
   "source": [
    "# Agregar 'Desconocido' a las categorías de la columna 'deck'\n",
    "titanic['deck'] = titanic['deck'].cat.add_categories('Desconocido')"
   ]
  },
  {
   "cell_type": "code",
   "execution_count": null,
   "metadata": {},
   "outputs": [],
   "source": [
    "# Rellenar valores faltantes en la columna 'deck' con el valor constante 'Desconocido'\n",
    "titanic['deck'].fillna('Desconocido', inplace=True)\n",
    "\n",
    "# Verificar que no hay valores faltantes en 'deck'\n",
    "titanic.isnull().sum()"
   ]
  },
  {
   "cell_type": "markdown",
   "metadata": {},
   "source": [
    "### Eliminación de Filas con Valores Faltantes en `embarked` y `embark_town`\n",
    "\n",
    "#### Razonamiento detrás de la Eliminación de Filas\n",
    "\n",
    "Las columnas `embarked` y `embark_town` en el dataset Titanic contienen información sobre el puerto de embarque de los pasajeros. Aunque estos datos son importantes, el número de valores faltantes es muy pequeño (solo 2 en cada columna). En este caso, eliminar las filas con valores faltantes es una estrategia razonable por varias razones:\n",
    "\n",
    "1. **Impacto Mínimo en el Análisis:** Dado que solo hay 2 filas con valores faltantes, eliminarlas no afectará significativamente el tamaño del dataset ni los resultados del análisis.\n",
    "2. **Simplicidad:** La eliminación de filas es una estrategia simple y directa que no introduce sesgo adicional ni requiere supuestos sobre los datos faltantes.\n",
    "3. **Integridad de los Datos:** Asegura que todas las filas restantes tengan datos completos, lo cual es importante para ciertos tipos de análisis y modelos predictivos que no manejan bien los valores faltantes.\n",
    "\n",
    "#### Implementación en Python\n",
    "\n",
    "A continuación, se muestra cómo eliminar las filas con valores faltantes en las columnas `embarked` y `embark_town` utilizando `pandas`.\n"
   ]
  },
  {
   "cell_type": "code",
   "execution_count": null,
   "metadata": {},
   "outputs": [],
   "source": [
    "# Eliminar filas con cualquier valor faltante\n",
    "titanic.dropna(subset=['embarked', 'embark_town'], inplace=True)\n",
    "\n",
    "# Verificar que no hay valores faltantes en 'embarked' y 'embark_town'\n",
    "titanic.isnull().sum()"
   ]
  },
  {
   "cell_type": "markdown",
   "metadata": {},
   "source": [
    "## Conversión de Tipos de Datos\n",
    "\n",
    "### Importancia de la Conversión de Tipos de Datos\n",
    "\n",
    "La conversión de tipos de datos es una práctica importante en el análisis de datos, ya que permite:\n",
    "1. **Optimización de Memoria:** Reducir el uso de memoria al cambiar a tipos de datos más eficientes.\n",
    "2. **Facilidad de Análisis:** Garantizar que los datos estén en el formato correcto para realizar análisis y operaciones matemáticas.\n",
    "3. **Mejor Rendimiento:** Aumentar la velocidad de procesamiento de datos, especialmente en grandes conjuntos de datos.\n",
    "\n",
    "### Información del DataFrame\n",
    "\n",
    "Antes de realizar cualquier conversión, es útil revisar la estructura y tipos de datos del DataFrame. Aquí mostramos un resumen del DataFrame Titanic:"
   ]
  },
  {
   "cell_type": "code",
   "execution_count": null,
   "metadata": {},
   "outputs": [],
   "source": [
    "# Información básica sobre el dataset\n",
    "titanic.info()"
   ]
  },
  {
   "cell_type": "markdown",
   "metadata": {},
   "source": [
    "Este resumen nos muestra los tipos de datos actuales de cada columna y el uso de memoria del DataFrame.\n",
    "\n",
    "### Estrategias para la Conversión de Tipos de Datos\n",
    "\n",
    "1. **Conversión de Tipos Categóricos:**\n",
    "   - Convertir columnas que contienen un número limitado de valores únicos (categóricos) a tipo `category`. Esto puede reducir significativamente el uso de memoria.\n",
    "\n",
    "2. **Conversión de Tipos Numéricos:**\n",
    "   - Convertir tipos de datos numéricos a tipos más eficientes, como `int8`, `int16`, `float32`, etc., cuando los valores en la columna lo permiten.\n",
    "\n",
    "### Implementación en Python\n",
    "\n",
    "A continuación, se muestran ejemplos de cómo convertir algunos tipos de datos en el dataset Titanic para optimizar el uso de memoria.\n",
    "\n",
    "#### Conversión de Columnas Categóricas\n",
    "\n",
    "Las columnas `sex`, `embarked`, `who`, `embark_town` y `alive` son buenas candidatas para ser convertidas a tipo `category`."
   ]
  },
  {
   "cell_type": "code",
   "execution_count": null,
   "metadata": {},
   "outputs": [],
   "source": [
    "# Ver los valores únicos en esta columna\n",
    "titanic['alive'].unique()"
   ]
  },
  {
   "cell_type": "code",
   "execution_count": null,
   "metadata": {},
   "outputs": [],
   "source": [
    "# Convertir columnas categóricas a tipo 'category'\n",
    "titanic['sex'] = titanic['sex'].astype('category')\n",
    "titanic['embarked'] = titanic['embarked'].astype('category')\n",
    "titanic['who'] = titanic['who'].astype('category')\n",
    "titanic['embark_town'] = titanic['embark_town'].astype('category')\n",
    "titanic['alive'] = titanic['alive'].astype('category')\n",
    "\n",
    "# Verificar los cambios\n",
    "titanic.info()"
   ]
  },
  {
   "cell_type": "markdown",
   "metadata": {},
   "source": [
    "#### Conversión de Columnas Numéricas\n",
    "\n",
    "Las columnas `pclass`, `sibsp`, `parch` y `alone` pueden ser convertidas a tipos de enteros más pequeños (`int8`), ya que sus valores son pequeños y no requieren el rango completo de un `int64`."
   ]
  },
  {
   "cell_type": "code",
   "execution_count": null,
   "metadata": {},
   "outputs": [],
   "source": [
    "# Convertir columnas numéricas a tipos más eficientes\n",
    "titanic['pclass'] = titanic['pclass'].astype('int8')\n",
    "titanic['sibsp'] = titanic['sibsp'].astype('int8')\n",
    "titanic['parch'] = titanic['parch'].astype('int8')\n",
    "titanic['alone'] = titanic['alone'].astype('int8')\n",
    "\n",
    "# Verificar los cambios\n",
    "titanic.info()"
   ]
  },
  {
   "cell_type": "code",
   "execution_count": null,
   "metadata": {},
   "outputs": [],
   "source": [
    "# cambien el tipo de datos de las \n",
    "# variables que consideren hace falta trabajar\n",
    "print(titanic['survived'].unique())\n",
    "titanic['survived'] = titanic['survived'].astype(bool)"
   ]
  },
  {
   "cell_type": "code",
   "execution_count": null,
   "metadata": {},
   "outputs": [],
   "source": [
    "print(titanic['fare'].max())\n",
    "titanic['fare'] = titanic['fare'].astype('float16')"
   ]
  },
  {
   "cell_type": "code",
   "execution_count": null,
   "metadata": {},
   "outputs": [],
   "source": [
    "print(titanic['age'].max())\n",
    "titanic['age'] = titanic['age'].astype('int8')"
   ]
  },
  {
   "cell_type": "code",
   "execution_count": null,
   "metadata": {},
   "outputs": [],
   "source": [
    "titanic.info()"
   ]
  },
  {
   "cell_type": "markdown",
   "metadata": {},
   "source": [
    "## Creación de Nuevas Columnas Derivadas\n",
    "\n",
    "### Importancia de la Creación de Nuevas Variables\n",
    "\n",
    "La creación de nuevas variables derivadas de las columnas existentes puede proporcionar información adicional y mejorar el análisis de datos. Algunas técnicas incluyen:\n",
    "1. **Estandarización de Datos:** Ajustar los datos para que tengan una media de 0 y una desviación estándar de 1 utilizando el Z-score.\n",
    "2. **Transformaciones Matemáticas:** Aplicar funciones matemáticas (por ejemplo, logarítmica, exponencial) a las columnas.\n",
    "3. **Combinaciones de Columnas:** Crear nuevas variables combinando múltiples columnas (por ejemplo, la relación entre hermanos y padres).\n",
    "\n",
    "### Estandarización de Datos con Z-score\n",
    "\n",
    "La estandarización de datos es una técnica que ajusta los datos para que tengan una media de 0 y una desviación estándar de 1. Esto es útil cuando se trabaja con algoritmos que son sensibles a la escala de los datos, como la regresión lineal, K-means, y redes neuronales.\n",
    "\n",
    "La fórmula del Z-score es:\n",
    "$$ Z = \\frac{(X - \\mu)}{\\sigma} $$\n",
    "donde:\n",
    "- $ X $ es el valor original.\n",
    "- $ \\mu $ es la media de la columna.\n",
    "- $ \\sigma $ es la desviación estándar de la columna.\n",
    "\n",
    "### Implementación en Python\n",
    "\n",
    "A continuación, estandarizaremos la columna `age` y crearemos nuevas columnas derivadas de las existentes.\n"
   ]
  },
  {
   "cell_type": "code",
   "execution_count": null,
   "metadata": {},
   "outputs": [],
   "source": [
    "# Crear una nueva columna 'age_zscore' con el Z-score de 'age'\n",
    "titanic['age_zscore'] = (titanic['age'] - titanic['age'].mean()) / titanic['age'].std()\n",
    "\n",
    "titanic.head()"
   ]
  },
  {
   "cell_type": "code",
   "execution_count": null,
   "metadata": {},
   "outputs": [],
   "source": [
    "# Verificar variables estadísticas\n",
    "titanic['age_zscore'].describe()"
   ]
  },
  {
   "cell_type": "code",
   "execution_count": null,
   "metadata": {},
   "outputs": [],
   "source": [
    "# Crear una nueva columna que combine 'sibsp' y 'parch' en 'family_size'\n",
    "titanic['family_size'] = titanic['sibsp'] + titanic['parch'] + 1  # +1 para incluir el propio pasajero\n",
    "\n",
    "titanic.tail()"
   ]
  },
  {
   "cell_type": "markdown",
   "metadata": {},
   "source": [
    "## Definición de una Función Personalizada para Categorizar Edades\n",
    "\n",
    "### Función `apply()` en `pandas`\n",
    "\n",
    "La función `apply()` de `pandas` se utiliza para aplicar una función a lo largo de un eje del DataFrame (filas o columnas). En este caso, aplicaremos una función personalizada a la columna `age` para crear una nueva columna `age_category` que categoriza las edades de los pasajeros.\n",
    "\n",
    "#### ¿Cómo funciona?\n",
    "\n",
    "1. **Definición de la Función Personalizada:**\n",
    "   - Creamos una función que toma un valor de edad y devuelve una categoría basada en ese valor.\n",
    "\n",
    "2. **Aplicación de la Función:**\n",
    "   - Usamos `apply()` para aplicar la función a cada valor de la columna `age` y creamos una nueva columna `age_category` para almacenar los resultados."
   ]
  },
  {
   "cell_type": "code",
   "execution_count": null,
   "metadata": {},
   "outputs": [],
   "source": [
    "def age_category(age):\n",
    "    if age < 18:\n",
    "        return 'Niño'\n",
    "    elif age < 65:\n",
    "        return 'Adulto'\n",
    "    else:\n",
    "        return 'Anciano'\n",
    "    \n",
    "# Aplicar la función a la columna 'age' y crear una nueva columna 'age_category'\n",
    "titanic['age_category'] = titanic['age'].apply(age_category)\n",
    "\n",
    "# Mostrar las primeras filas con la nueva columna\n",
    "titanic[['age', 'age_category']].head()"
   ]
  },
  {
   "cell_type": "markdown",
   "metadata": {},
   "source": [
    "## Agrupación por `pclass` y Cálculo de la Media de `fare` y `age`\n",
    "\n",
    "### Función `groupby()` en `pandas`\n",
    "\n",
    "La función `groupby()` de `pandas` permite agrupar los datos según los valores de una o más columnas y aplicar funciones de agregación a los datos agrupados. Este método es útil para realizar análisis de resumen.\n",
    "\n",
    "#### ¿Cómo funciona?\n",
    "\n",
    "1. **Agrupación:**\n",
    "   - Usamos `groupby()` para agrupar los datos por la columna `pclass`.\n",
    "\n",
    "2. **Agregación:**\n",
    "   - Aplicamos la función `agg()` para calcular la media de las columnas `fare` y `age` para cada grupo.\n",
    "\n",
    "3. **Reset Index:**\n",
    "   - Usamos `reset_index()` para convertir el resultado en un DataFrame estándar.\n"
   ]
  },
  {
   "cell_type": "code",
   "execution_count": null,
   "metadata": {},
   "outputs": [],
   "source": [
    "# Agrupar por 'pclass' y calcular la media de 'fare' y 'age'\n",
    "grouped = titanic.groupby('pclass').agg({'fare': 'mean', 'age': 'mean'}).reset_index()\n",
    "\n",
    "# Mostrar el DataFrame agrupado\n",
    "grouped"
   ]
  },
  {
   "cell_type": "markdown",
   "metadata": {},
   "source": [
    "## Creación de una Tabla Dinámica para Resumir la Media de `fare` por `sex` y `pclass`\n",
    "\n",
    "### Función `pivot_table()` en `pandas`\n",
    "\n",
    "La función `pivot_table()` de `pandas` es similar a las tablas dinámicas en Excel. Permite resumir y reorganizar los datos en una tabla, aplicando funciones de agregación a las combinaciones de valores de las columnas seleccionadas.\n",
    "\n",
    "#### ¿Cómo funciona?\n",
    "\n",
    "1. **Definición de Índices y Columnas:**\n",
    "   - Especificamos las columnas que queremos usar como índices y columnas de la tabla dinámica (`sex` y `pclass`).\n",
    "\n",
    "2. **Función de Agregación:**\n",
    "   - Especificamos la función de agregación a aplicar (`mean` en este caso)."
   ]
  },
  {
   "cell_type": "code",
   "execution_count": null,
   "metadata": {},
   "outputs": [],
   "source": [
    "# Crear una tabla dinámica para resumir la media de 'fare' por 'sex' y 'pclass'\n",
    "pivot = titanic.pivot_table(values='fare', index='sex', columns='pclass', aggfunc='mean')\n",
    "\n",
    "# Mostrar la tabla dinámica\n",
    "pivot"
   ]
  },
  {
   "cell_type": "markdown",
   "metadata": {},
   "source": [
    "## Conclusiones\n",
    "\n",
    "En esta clase, hemos explorado varias técnicas avanzadas de manipulación de datos utilizando `pandas`. Los conceptos clave que cubrimos incluyen:\n",
    "\n",
    "1. **Tratamiento de Datos Faltantes:**\n",
    "   - Identificación y manejo de datos faltantes mediante imputación y eliminación de filas.\n",
    "   - Uso de `fillna()` para rellenar valores faltantes y `dropna()` para eliminar filas incompletas.\n",
    "\n",
    "2. **Conversión de Tipos de Datos:**\n",
    "   - Optimización del uso de memoria mediante la conversión de columnas a tipos de datos más eficientes como `category` e `int8`.\n",
    "\n",
    "3. **Creación de Nuevas Columnas Derivadas:**\n",
    "   - Uso de funciones personalizadas con `apply()` para crear nuevas columnas basadas en datos existentes.\n",
    "   - Estandarización de datos utilizando el Z-score.\n",
    "\n",
    "4. **Agrupación y Agregación:**\n",
    "   - Agrupación de datos utilizando `groupby()` y aplicación de funciones de agregación con `agg()`.\n",
    "\n",
    "5. **Tablas Dinámicas:**\n",
    "   - Creación de tablas dinámicas con `pivot_table()` para resumir y analizar datos de manera eficiente.\n",
    "\n",
    "Estas técnicas son fundamentales para preparar y analizar datos de manera efectiva, lo que es esencial para cualquier proyecto de análisis de datos o machine learning."
   ]
  },
  {
   "cell_type": "markdown",
   "metadata": {},
   "source": [
    "## Ejercicio: Efecto de Ser Adulto Masculino en la Tasa de Supervivencia\n",
    "\n",
    "### Objetivo\n",
    "\n",
    "El objetivo de este ejercicio es utilizar las habilidades de manipulación de datos aprendidas para crear una nueva columna que identifique si un pasajero es un hombre adulto y luego usar esa columna para calcular la tasa de supervivencia.\n",
    "\n",
    "### Instrucciones\n",
    "\n",
    "1. **Crear la Columna `is_adult_male`**\n",
    "\n",
    "Primero, queremos identificar si cada pasajero es un hombre adulto. Para ello, crearemos una nueva columna llamada `is_adult_male` que será `True` si el pasajero es un hombre adulto, y `False` en caso contrario.\n",
    "\n",
    "2. **Calcular la Tasa de Supervivencia**\n",
    "\n",
    "Una vez que hayamos creado la columna `is_adult_male`, utilizaremos esta nueva columna para calcular la tasa de supervivencia de los hombres adultos comparada con la de otros pasajeros."
   ]
  }
 ],
 "metadata": {
  "kernelspec": {
   "display_name": "base",
   "language": "python",
   "name": "python3"
  },
  "language_info": {
   "codemirror_mode": {
    "name": "ipython",
    "version": 3
   },
   "file_extension": ".py",
   "mimetype": "text/x-python",
   "name": "python",
   "nbconvert_exporter": "python",
   "pygments_lexer": "ipython3",
   "version": "3.10.13"
  }
 },
 "nbformat": 4,
 "nbformat_minor": 2
}
