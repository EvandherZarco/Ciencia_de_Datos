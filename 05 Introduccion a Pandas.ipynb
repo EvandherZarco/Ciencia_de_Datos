{
 "cells": [
  {
   "cell_type": "markdown",
   "metadata": {},
   "source": [
    "### Introducción a Pandas\n",
    "\n",
    "Pandas es una biblioteca esencial para la manipulación y análisis de datos en Python. Ofrece estructuras de datos y herramientas de alto rendimiento diseñadas para trabajar con datos etiquetados o relacionales de manera sencilla y eficiente.\n",
    "\n",
    "## ¿Por qué usar Pandas?\n",
    "\n",
    "- Facilita la manipulación de grandes conjuntos de datos.\n",
    "- Ofrece estructuras de datos intuitivas como Series y DataFrames.\n",
    "- Integra capacidades de visualización.\n",
    "- Es ampliamente utilizado en análisis de datos, ciencia de datos y aprendizaje automático.\n",
    "\n",
    "A lo largo de esta clase, aprenderemos a utilizar Pandas para cargar, explorar y manipular datos. Para comenzar a usar Pandas en Google Colab, primero debemos importar la biblioteca."
   ]
  },
  {
   "cell_type": "code",
   "execution_count": null,
   "metadata": {},
   "outputs": [],
   "source": [
    "# Importar bibliotecas necesarias\n",
    "import pandas as pd"
   ]
  },
  {
   "cell_type": "markdown",
   "metadata": {},
   "source": [
    "## Estructuras de Datos en Pandas\n",
    "\n",
    "Pandas ofrece dos estructuras de datos principales para trabajar con datos: **Series** y **DataFrames**. Estas estructuras son altamente flexibles y permiten una manipulación eficiente de los datos, desde la limpieza y transformación hasta el análisis y visualización.\n",
    "\n",
    "### Series\n",
    "\n",
    "Una Serie es una estructura de datos unidimensional similar a una columna en una tabla. Es útil para almacenar y manipular datos unidimensionales."
   ]
  },
  {
   "cell_type": "code",
   "execution_count": null,
   "metadata": {},
   "outputs": [],
   "source": [
    "serie = pd.Series([1, 2, 3, 4, 5])\n",
    "print(serie)"
   ]
  },
  {
   "cell_type": "code",
   "execution_count": null,
   "metadata": {},
   "outputs": [],
   "source": [
    "type(serie)"
   ]
  },
  {
   "cell_type": "markdown",
   "metadata": {},
   "source": [
    "### DataFrames\n",
    "\n",
    "Un DataFrame es una estructura de datos bidimensional que se asemeja a una tabla. Es útil para almacenar y manipular datos tabulares."
   ]
  },
  {
   "cell_type": "code",
   "execution_count": null,
   "metadata": {},
   "outputs": [],
   "source": [
    "# Crear un DataFrame de ejemplo con más registros y diversidad\n",
    "data = {\n",
    "    'Nombre': ['Alice', 'Bob', 'Charlie', 'David', 'Eva', 'Frank', 'Grace', 'Hank', 'Ivy', 'Jack', 'Karen', 'Leo', 'Mona', 'Nina', 'Oscar'],\n",
    "    'Edad': [25, 30, 35, 40, 22, 28, 35, None, 45, 30, 22, 40, 29, None, 30],\n",
    "    'Ciudad': ['Nueva York', 'Los Ángeles', 'Nueva York', 'San Francisco', 'Chicago', 'Nueva York', 'Los Ángeles', 'San Francisco', 'Chicago', 'Nueva York', 'Nueva York', 'Chicago', 'Los Ángeles', 'Nueva York', 'San Francisco'],\n",
    "    'Empleado': [True, False, True, True, False, True, False, True, True, False, False, True, True, False, True]\n",
    "}\n",
    "df = pd.DataFrame(data)\n",
    "print(df)"
   ]
  },
  {
   "cell_type": "code",
   "execution_count": null,
   "metadata": {},
   "outputs": [],
   "source": [
    "# Otra forma de visualizar un dataframe en una libreta\n",
    "df"
   ]
  },
  {
   "cell_type": "code",
   "execution_count": null,
   "metadata": {},
   "outputs": [],
   "source": [
    "# Ver la parte de arriba\n",
    "df.head()"
   ]
  },
  {
   "cell_type": "code",
   "execution_count": null,
   "metadata": {},
   "outputs": [],
   "source": [
    "# Ver la parte de abajo\n",
    "df.tail()"
   ]
  },
  {
   "cell_type": "markdown",
   "metadata": {},
   "source": [
    "## Operaciones Básicas en Pandas\n",
    "\n",
    "### Selección de Columnas\n",
    "\n",
    "Podemos seleccionar una columna específica de un DataFrame utilizando el nombre de la columna entre corchetes. También podemos seleccionar múltiples columnas pasando una lista de nombres de columnas."
   ]
  },
  {
   "cell_type": "code",
   "execution_count": null,
   "metadata": {},
   "outputs": [],
   "source": [
    "# Seleccionar una columna\n",
    "df['Nombre']"
   ]
  },
  {
   "cell_type": "code",
   "execution_count": null,
   "metadata": {},
   "outputs": [],
   "source": [
    "# Seleccionar múltiples columnas\n",
    "df[['Nombre', 'Edad', 'Ciudad']]"
   ]
  },
  {
   "cell_type": "markdown",
   "metadata": {},
   "source": [
    "### Filtrado de Datos\n",
    "\n",
    "Podemos filtrar los datos en un DataFrame utilizando condiciones. Las condiciones se especifican dentro de los corchetes y devuelven un DataFrame que satisface esas condiciones."
   ]
  },
  {
   "cell_type": "code",
   "execution_count": null,
   "metadata": {},
   "outputs": [],
   "source": [
    "filtro = df['Edad'] > 30"
   ]
  },
  {
   "cell_type": "code",
   "execution_count": null,
   "metadata": {},
   "outputs": [],
   "source": [
    "filtro"
   ]
  },
  {
   "cell_type": "code",
   "execution_count": null,
   "metadata": {},
   "outputs": [],
   "source": [
    "# Filtrar datos basado en una condición\n",
    "df[filtro]"
   ]
  },
  {
   "cell_type": "code",
   "execution_count": null,
   "metadata": {},
   "outputs": [],
   "source": [
    "# Filtrar datos con múltiples condiciones\n",
    "# Por ejemplo, seleccionar todas las filas donde la edad es mayor a 30 y la ciudad es 'Chicago'\n",
    "filtro=(df['Edad'] > 30) & (df['Ciudad'] == 'Chicago')\n",
    "df[filtro]"
   ]
  },
  {
   "cell_type": "markdown",
   "metadata": {},
   "source": [
    "### Uso de loc y iloc\n",
    "\n",
    "`loc` se utiliza para seleccionar filas y columnas por etiquetas o una condición booleana, mientras que `iloc` se utiliza para seleccionar filas y columnas por posiciones enteras (índices)."
   ]
  },
  {
   "cell_type": "code",
   "execution_count": null,
   "metadata": {},
   "outputs": [],
   "source": [
    "df.head(2)"
   ]
  },
  {
   "cell_type": "code",
   "execution_count": null,
   "metadata": {},
   "outputs": [],
   "source": [
    "# Seleccionar una fila por etiqueta utilizando loc\n",
    "df.loc[0]"
   ]
  },
  {
   "cell_type": "code",
   "execution_count": null,
   "metadata": {},
   "outputs": [],
   "source": [
    "# Seleccionar múltiples filas y columnas por etiquetas utilizando loc\n",
    "df.loc[0:4, ['Nombre', 'Ciudad']]"
   ]
  },
  {
   "cell_type": "code",
   "execution_count": null,
   "metadata": {},
   "outputs": [],
   "source": [
    "# Seleccionar una fila por posición utilizando iloc\n",
    "df.iloc[0]"
   ]
  },
  {
   "cell_type": "code",
   "execution_count": null,
   "metadata": {},
   "outputs": [],
   "source": [
    "# Seleccionar múltiples filas y columnas por posiciones utilizando iloc\n",
    "df.iloc[0:4, [0, 2]]"
   ]
  },
  {
   "cell_type": "markdown",
   "metadata": {},
   "source": [
    "### Modificación de Datos\n",
    "\n",
    "Podemos agregar y eliminar columnas, así como modificar valores en el DataFrame."
   ]
  },
  {
   "cell_type": "code",
   "execution_count": null,
   "metadata": {},
   "outputs": [],
   "source": [
    "# Agregar una nueva columna\n",
    "df['País'] = 'USA'\n",
    "df"
   ]
  },
  {
   "cell_type": "code",
   "execution_count": null,
   "metadata": {},
   "outputs": [],
   "source": [
    "# Eliminar una columna\n",
    "df = df.drop(columns=['País'])\n",
    "df"
   ]
  },
  {
   "cell_type": "markdown",
   "metadata": {},
   "source": [
    "### Manejo de Valores Nulos\n",
    "\n",
    "Pandas ofrece funciones para identificar y tratar valores nulos."
   ]
  },
  {
   "cell_type": "code",
   "execution_count": null,
   "metadata": {},
   "outputs": [],
   "source": [
    "df.isnull()"
   ]
  },
  {
   "cell_type": "code",
   "execution_count": null,
   "metadata": {},
   "outputs": [],
   "source": [
    "# Identificar valores nulos\n",
    "df.isnull().sum()"
   ]
  },
  {
   "cell_type": "code",
   "execution_count": null,
   "metadata": {},
   "outputs": [],
   "source": [
    "# Llenar valores nulos con un valor específico\n",
    "df['Edad'] = df['Edad'].fillna(df['Edad'].mean())\n",
    "df"
   ]
  },
  {
   "cell_type": "code",
   "execution_count": null,
   "metadata": {},
   "outputs": [],
   "source": [
    "# Verificar valores nulos\n",
    "df.isnull().sum()"
   ]
  },
  {
   "cell_type": "markdown",
   "metadata": {},
   "source": [
    "## Exploración de Datos\n",
    "\n",
    "Pandas proporciona funciones útiles para explorar y entender mejor nuestros datos.\n",
    "\n",
    "### Describiendo Datos\n",
    "\n",
    "Podemos obtener información básica y estadísticas descriptivas de nuestro DataFrame."
   ]
  },
  {
   "cell_type": "code",
   "execution_count": null,
   "metadata": {},
   "outputs": [],
   "source": [
    "# Obtener información del DataFrame\n",
    "df.info()"
   ]
  },
  {
   "cell_type": "code",
   "execution_count": null,
   "metadata": {},
   "outputs": [],
   "source": [
    "# Obtener estadísticas descriptivas\n",
    "df.describe()"
   ]
  },
  {
   "cell_type": "markdown",
   "metadata": {},
   "source": [
    "### Estadísticas Descriptivas\n",
    "\n",
    "Calcular estadísticas básicas como medias y medianas."
   ]
  },
  {
   "cell_type": "code",
   "execution_count": null,
   "metadata": {},
   "outputs": [],
   "source": [
    "# Calcular la media de una columna\n",
    "print(df['Edad'].mean())"
   ]
  },
  {
   "cell_type": "code",
   "execution_count": null,
   "metadata": {},
   "outputs": [],
   "source": [
    "# Calcular la mediana de una columna\n",
    "print(df['Edad'].median())"
   ]
  },
  {
   "cell_type": "markdown",
   "metadata": {},
   "source": [
    "### Visualización de Datos\n",
    "\n",
    "Podemos crear visualizaciones básicas utilizando Pandas y Seaborn."
   ]
  },
  {
   "cell_type": "code",
   "execution_count": null,
   "metadata": {},
   "outputs": [],
   "source": [
    "df['Ciudad'].value_counts()"
   ]
  },
  {
   "cell_type": "code",
   "execution_count": null,
   "metadata": {},
   "outputs": [],
   "source": [
    "# Crear un gráfico de barras de la columna 'Ciudad'\n",
    "df['Ciudad'].value_counts().plot(kind='bar')"
   ]
  },
  {
   "cell_type": "code",
   "execution_count": null,
   "metadata": {},
   "outputs": [],
   "source": [
    "# Crear un histograma de la columna 'Edad'\n",
    "df['Edad'].plot(kind='hist')"
   ]
  },
  {
   "cell_type": "markdown",
   "metadata": {},
   "source": [
    "## Operaciones Avanzadas en Pandas\n",
    "\n",
    "### Agrupación de Datos\n",
    "\n",
    "Utilizar `groupby` para agrupar datos y realizar operaciones agregadas."
   ]
  },
  {
   "cell_type": "code",
   "execution_count": null,
   "metadata": {},
   "outputs": [],
   "source": [
    "df.head(2)"
   ]
  },
  {
   "cell_type": "code",
   "execution_count": null,
   "metadata": {},
   "outputs": [],
   "source": [
    "# Agrupar datos por 'Ciudad' y calcular la media de 'Edad'\n",
    "df.groupby('Ciudad')['Edad'].mean()"
   ]
  },
  {
   "cell_type": "markdown",
   "metadata": {},
   "source": [
    "### Aplicación de Funciones\n",
    "\n",
    "La función `apply` en Pandas permite aplicar una función a lo largo de un eje del DataFrame (filas o columnas). Esto es útil para realizar operaciones personalizadas en los datos."
   ]
  },
  {
   "cell_type": "code",
   "execution_count": null,
   "metadata": {},
   "outputs": [],
   "source": [
    "# Definir una función estándar\n",
    "def incrementar_edad(x):\n",
    "    return x + 10\n",
    "\n",
    "# Aplicar la función a la columna 'Edad' usando apply\n",
    "df['Edad_incrementada'] = df['Edad'].apply(incrementar_edad)\n",
    "df[['Nombre', 'Edad', 'Edad_incrementada']].head()"
   ]
  },
  {
   "cell_type": "markdown",
   "metadata": {},
   "source": [
    "### Introducción a las Funciones Lambda\n",
    "\n",
    "Las funciones `lambda` en Python son pequeñas funciones anónimas que se definen en una sola línea utilizando la palabra clave `lambda`. Son útiles para operaciones rápidas y simples. Podemos usar funciones `lambda` con `apply` para lograr el mismo resultado que con una función estándar."
   ]
  },
  {
   "cell_type": "code",
   "execution_count": null,
   "metadata": {},
   "outputs": [],
   "source": [
    "# Aplicar una función a una columna\n",
    "# Aplicar una función lambda a la columna 'Edad' usando apply\n",
    "df['Edad_incrementada_lambda'] = df['Edad'].apply(lambda x: x + 10)\n",
    "print(df[['Nombre', 'Edad', 'Edad_incrementada_lambda']].head())"
   ]
  },
  {
   "cell_type": "markdown",
   "metadata": {},
   "source": [
    "### Combinación y Fusión de DataFrames\n",
    "\n",
    "En Pandas, existen varias funciones para combinar y fusionar DataFrames, cada una con sus propias ventajas y casos de uso. Las principales funciones son `merge`, `concat` y `join`.\n",
    "\n",
    "#### `merge`\n",
    "\n",
    "La función `merge` se utiliza para combinar dos DataFrames en función de las columnas comunes o índices."
   ]
  },
  {
   "cell_type": "code",
   "execution_count": null,
   "metadata": {},
   "outputs": [],
   "source": [
    "# Crear DataFrames de ejemplo\n",
    "df1 = pd.DataFrame({'ID': [1, 2, 3], 'Nombre': ['Alice', 'Bob', 'Charlie']})\n",
    "df2 = pd.DataFrame({'ID': [1, 2, 3], 'Edad': [25, 30, 35]})"
   ]
  },
  {
   "cell_type": "code",
   "execution_count": null,
   "metadata": {},
   "outputs": [],
   "source": [
    "df1"
   ]
  },
  {
   "cell_type": "code",
   "execution_count": null,
   "metadata": {},
   "outputs": [],
   "source": [
    "df2"
   ]
  },
  {
   "cell_type": "code",
   "execution_count": null,
   "metadata": {},
   "outputs": [],
   "source": [
    "# Fusionar DataFrames por columna 'ID'\n",
    "df_merged = pd.merge(df1, df2, on='ID')\n",
    "df_merged"
   ]
  },
  {
   "cell_type": "markdown",
   "metadata": {},
   "source": [
    "#### `concat`\n",
    "\n",
    "La función `concat` se utiliza para concatenar dos o más DataFrames a lo largo de un eje especificado (filas o columnas)."
   ]
  },
  {
   "cell_type": "code",
   "execution_count": null,
   "metadata": {},
   "outputs": [],
   "source": [
    "# Concatenar DataFrames por filas\n",
    "df_concat = pd.concat([df1, df2], axis=0)\n",
    "df_concat"
   ]
  },
  {
   "cell_type": "markdown",
   "metadata": {},
   "source": [
    "#### `join`\n",
    "\n",
    "La función `join` se utiliza para combinar dos DataFrames en función de los índices."
   ]
  },
  {
   "cell_type": "code",
   "execution_count": null,
   "metadata": {},
   "outputs": [],
   "source": [
    "# Crear DataFrames de ejemplo con diferentes índices\n",
    "df1 = pd.DataFrame({'Nombre': ['Alice', 'Bob', 'Charlie', 'David', 'Eva']}, index=[1, 2, 3, 4, 5])\n",
    "df2 = pd.DataFrame({'Edad': [25, 30, 35, 40, 20]}, index=[1, 2, 4, 5, 6])"
   ]
  },
  {
   "cell_type": "code",
   "execution_count": null,
   "metadata": {},
   "outputs": [],
   "source": [
    "df1"
   ]
  },
  {
   "cell_type": "code",
   "execution_count": null,
   "metadata": {},
   "outputs": [],
   "source": [
    "df2"
   ]
  },
  {
   "cell_type": "code",
   "execution_count": null,
   "metadata": {},
   "outputs": [],
   "source": [
    "# Unir DataFrames por el índice (left join)\n",
    "# Left join: Mantiene todos los índices del DataFrame de la izquierda y añade los datos correspondientes del DataFrame de la derecha. \n",
    "df_joined = df1.join(df2)\n",
    "print(\"Left join por defecto:\\n\", df_joined)"
   ]
  },
  {
   "cell_type": "code",
   "execution_count": null,
   "metadata": {},
   "outputs": [],
   "source": [
    "# Unir DataFrames por el índice (inner join)\n",
    "# Inner join: Mantiene solo los índices comunes a ambos DataFrames.\n",
    "df_joined_inner = df1.join(df2, how='inner')\n",
    "print(\"\\nInner join:\\n\", df_joined_inner)"
   ]
  },
  {
   "cell_type": "code",
   "execution_count": null,
   "metadata": {},
   "outputs": [],
   "source": [
    "# Unir DataFrames por el índice (right join)\n",
    "# Right join: Mantiene todos los índices del DataFrame de la derecha y añade los datos correspondientes del DataFrame de la izquierda.\n",
    "df_joined_right = df1.join(df2, how='right')\n",
    "print(\"\\nRight join:\\n\", df_joined_right)"
   ]
  },
  {
   "cell_type": "code",
   "execution_count": null,
   "metadata": {},
   "outputs": [],
   "source": [
    "# Unir DataFrames por el índice (outer join)\n",
    "# Outer join: Mantiene todos los índices de ambos DataFrames, rellenando con NaN donde no hay datos.\n",
    "df_joined_outer = df1.join(df2, how='outer')\n",
    "print(\"\\nOuter join:\\n\", df_joined_outer)"
   ]
  },
  {
   "cell_type": "markdown",
   "metadata": {},
   "source": [
    "## Trabajo con Datos Reales\n",
    "\n",
    "### Guardar DataFrames\n",
    "\n",
    "Utilizar `to_csv` y `to_excel` para guardar DataFrames en archivos CSV y Excel."
   ]
  },
  {
   "cell_type": "code",
   "execution_count": null,
   "metadata": {},
   "outputs": [],
   "source": [
    "# Revisar nuestro dataframe\n",
    "df.head()"
   ]
  },
  {
   "cell_type": "code",
   "execution_count": null,
   "metadata": {},
   "outputs": [],
   "source": [
    "%pwd"
   ]
  },
  {
   "cell_type": "code",
   "execution_count": null,
   "metadata": {},
   "outputs": [],
   "source": [
    "# Guardar DataFrame en un archivo CSV\n",
    "df.to_csv('archivo_guardado.csv', index=False)\n",
    "\n",
    "# Guardar DataFrame en un archivo Excel\n",
    "df.to_excel('archivo_guardado.xlsx', index=False)"
   ]
  },
  {
   "cell_type": "markdown",
   "metadata": {},
   "source": [
    "### Cargar Datos desde CSV y Excel\n",
    "\n",
    "Utilizar `read_csv` y `read_excel` para cargar datos desde archivos CSV y Excel."
   ]
  },
  {
   "cell_type": "code",
   "execution_count": null,
   "metadata": {},
   "outputs": [],
   "source": [
    "# Cargar datos desde un archivo CSV\n",
    "df_csv = pd.read_csv('archivo_guardado.csv')\n",
    "df_csv.head()"
   ]
  },
  {
   "cell_type": "code",
   "execution_count": null,
   "metadata": {},
   "outputs": [],
   "source": [
    "# Cargar datos desde un archivo Excel\n",
    "df_excel = pd.read_excel('archivo_guardado.xlsx')\n",
    "df_excel.head()"
   ]
  },
  {
   "cell_type": "markdown",
   "metadata": {},
   "source": [
    "### Conclusión\n",
    "\n",
    "En esta clase, hemos aprendido los conceptos básicos y avanzados de Pandas, una biblioteca poderosa para la manipulación y análisis de datos en Python. Hemos explorado cómo crear y manipular Series y DataFrames, realizar operaciones de selección y filtrado, manejar valores nulos, y mucho más. Con estas herramientas, ahora estás preparado para realizar análisis de datos más complejos y eficientes. ¡Sigue practicando y explorando las capacidades de Pandas para convertirte en un experto en análisis de datos!"
   ]
  }
 ],
 "metadata": {
  "kernelspec": {
   "display_name": "base",
   "language": "python",
   "name": "python3"
  },
  "language_info": {
   "codemirror_mode": {
    "name": "ipython",
    "version": 3
   },
   "file_extension": ".py",
   "mimetype": "text/x-python",
   "name": "python",
   "nbconvert_exporter": "python",
   "pygments_lexer": "ipython3",
   "version": "3.10.13"
  }
 },
 "nbformat": 4,
 "nbformat_minor": 2
}
