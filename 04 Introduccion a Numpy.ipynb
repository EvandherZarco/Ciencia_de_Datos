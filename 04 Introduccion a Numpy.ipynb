{
 "cells": [
  {
   "cell_type": "markdown",
   "metadata": {},
   "source": [
    "### ¿Qué es NumPy?\n",
    "\n",
    "NumPy es una biblioteca de Python que se utiliza ampliamente en el ámbito científico y de análisis de datos para realizar cálculos numéricos eficientes. La característica distintiva de NumPy es su capacidad para trabajar con arrays multidimensionales, lo que significa que puede manejar datos en forma de matrices o tensores.\n",
    "\n",
    "### Importancia y Usos de NumPy\n",
    "\n",
    "- **Eficiencia**: NumPy está altamente optimizado y escrito en C, lo que lo hace mucho más rápido que las listas de Python en operaciones numéricas.\n",
    "- **Compatibilidad con Bibliotecas**: NumPy es la base de muchas otras bibliotecas de análisis de datos, como pandas y matplotlib.\n",
    "- **Funcionalidad**: NumPy proporciona una amplia gama de funciones matemáticas y estadísticas que facilitan el trabajo con datos.\n",
    "- **Usos Comunes**:\n",
    "  - **Operaciones Aritméticas**: Realizar cálculos numéricos rápidos y eficientes.\n",
    "  - **Operaciones Estadísticas**: Calcular medias, medianas, desviaciones estándar y más.\n",
    "  - **Álgebra Lineal**: Resolver sistemas de ecuaciones lineales, calcular determinantes y valores propios.\n",
    "  - **Transformaciones de Fourier**: Realizar análisis de frecuencias y filtrado de señales.\n",
    "  - **Generación de Números Aleatorios**: Crear simulaciones y modelos probabilísticos.\n",
    "  - **Procesamiento de Imágenes**: Manipular y transformar imágenes en formato matricial.\n",
    "\n",
    "NumPy es una herramienta esencial para cualquier analista de datos, científico de datos o desarrollador que trabaje con datos numéricos y matemáticos en Python."
   ]
  },
  {
   "cell_type": "markdown",
   "metadata": {},
   "source": [
    "## Arrays de NumPy\n",
    "\n",
    "### Creación de Arrays\n",
    "\n",
    "Los arrays son la estructura de datos central en NumPy. Son similares a las listas en Python, pero ofrecen varias ventajas, como mayor eficiencia y una gran cantidad de funciones para operaciones matemáticas y estadísticas.\n",
    "\n",
    "#### Creación de Arrays desde Listas\n",
    "\n",
    "Podemos crear un array de NumPy a partir de una lista de Python utilizando la función `np.array`."
   ]
  },
  {
   "cell_type": "code",
   "execution_count": null,
   "metadata": {},
   "outputs": [],
   "source": [
    "import numpy as np\n",
    "\n",
    "# Crear un array a partir de una lista\n",
    "lista = [1, 2, 3, 4, 5]\n",
    "array = np.array(lista)\n",
    "print(\"Array creado a partir de una lista:\", array)"
   ]
  },
  {
   "cell_type": "markdown",
   "metadata": {},
   "source": [
    "#### Creación de Arrays con Funciones de NumPy\n",
    "\n",
    "NumPy proporciona varias funciones para crear arrays de diferentes formas y tamaños."
   ]
  },
  {
   "cell_type": "code",
   "execution_count": null,
   "metadata": {},
   "outputs": [],
   "source": [
    "# Array de ceros: Crea un array de ceros con una forma especificada.\n",
    "np.zeros((3, 4))"
   ]
  },
  {
   "cell_type": "code",
   "execution_count": null,
   "metadata": {},
   "outputs": [],
   "source": [
    "# Array de unos: Crea un array de unos con una forma especificada.\n",
    "np.ones((2, 3))"
   ]
  },
  {
   "cell_type": "code",
   "execution_count": null,
   "metadata": {},
   "outputs": [],
   "source": [
    "5*np.ones((2, 3))"
   ]
  },
  {
   "cell_type": "code",
   "execution_count": null,
   "metadata": {},
   "outputs": [],
   "source": [
    "# Array vacío: Crea un array vacío (sin inicializar) con una forma especificada.\n",
    "np.empty((2, 2))"
   ]
  },
  {
   "cell_type": "code",
   "execution_count": null,
   "metadata": {},
   "outputs": [],
   "source": [
    "# Array de rango: Crea un array con un rango de valores especificados.\n",
    "np.arange(10)"
   ]
  },
  {
   "cell_type": "code",
   "execution_count": null,
   "metadata": {},
   "outputs": [],
   "source": [
    "np.arange(4,10)"
   ]
  },
  {
   "cell_type": "code",
   "execution_count": null,
   "metadata": {},
   "outputs": [],
   "source": [
    "np.arange(1,15,2)"
   ]
  },
  {
   "cell_type": "code",
   "execution_count": null,
   "metadata": {},
   "outputs": [],
   "source": [
    "np.arange(0,10,0.1)"
   ]
  },
  {
   "cell_type": "code",
   "execution_count": null,
   "metadata": {},
   "outputs": [],
   "source": [
    "range(0,10,0.1)"
   ]
  },
  {
   "cell_type": "code",
   "execution_count": null,
   "metadata": {},
   "outputs": [],
   "source": [
    "np.arange(10,0,-0.5)"
   ]
  },
  {
   "cell_type": "code",
   "execution_count": null,
   "metadata": {},
   "outputs": [],
   "source": [
    "# Array de valores espaciados uniformemente: Crea un array de valores espaciados uniformemente en un intervalo especificado.\n",
    "np.linspace(0, 10, 5)"
   ]
  },
  {
   "cell_type": "code",
   "execution_count": null,
   "metadata": {},
   "outputs": [],
   "source": [
    "# Array de identidad: Crea una matriz de identidad.\n",
    "np.eye(3)"
   ]
  },
  {
   "cell_type": "markdown",
   "metadata": {},
   "source": [
    "#### Creación de Arrays Multidimensionales\n",
    "Podemos crear arrays multidimensionales (matrices) especificando las dimensiones en la función de creación."
   ]
  },
  {
   "cell_type": "code",
   "execution_count": null,
   "metadata": {},
   "outputs": [],
   "source": [
    "# Crear un array bidimensional (matriz)\n",
    "matriz = np.array([[1, 2, 3], [4, 5, 6]])\n",
    "print(\"Array bidimensional:\\n\", matriz)"
   ]
  },
  {
   "cell_type": "code",
   "execution_count": null,
   "metadata": {},
   "outputs": [],
   "source": [
    "# Crear un array tridimensional\n",
    "array_3d = np.array([[[1, 2, 3], [4, 5, 6]], [[7, 8, 9], [10, 11, 12]]])\n",
    "print(\"Array tridimensional:\\n\", array_3d)"
   ]
  },
  {
   "cell_type": "markdown",
   "metadata": {},
   "source": [
    "### Tipos de Arrays\n",
    "\n",
    "En NumPy, los arrays pueden ser de diferentes tipos según el tipo de datos que almacenan. Los tipos más comunes incluyen arrays de enteros, flotantes, booleanos, cadenas de caracteres, entre otros. NumPy maneja estos tipos de manera eficiente, lo que permite realizar operaciones numéricas y científicas de forma rápida y efectiva.\n",
    "\n",
    "#### Arrays de Enteros\n",
    "\n",
    "Los arrays de enteros contienen valores numéricos enteros. Podemos especificar el tipo de datos utilizando el parámetro `dtype`."
   ]
  },
  {
   "cell_type": "code",
   "execution_count": null,
   "metadata": {},
   "outputs": [],
   "source": [
    "# Crear un array de enteros\n",
    "array_enteros = np.array([1, 2, 3, 4, 5], dtype=np.int32)\n",
    "print(\"Array de enteros:\", array_enteros)"
   ]
  },
  {
   "cell_type": "markdown",
   "metadata": {},
   "source": [
    "#### Arrays de Flotantes\n",
    "Los arrays de flotantes contienen valores numéricos decimales"
   ]
  },
  {
   "cell_type": "code",
   "execution_count": null,
   "metadata": {},
   "outputs": [],
   "source": [
    "# Crear un array de flotantes\n",
    "array_flotantes = np.array([1.1, 2.2, 3.3, 4.4, 5.5],\n",
    "                           dtype=np.float64)\n",
    "print(\"Array de flotantes:\", array_flotantes)"
   ]
  },
  {
   "cell_type": "markdown",
   "metadata": {},
   "source": [
    "#### Arrays Booleanos\n",
    "Los arrays booleanos contienen valores `True` o `False`."
   ]
  },
  {
   "cell_type": "code",
   "execution_count": null,
   "metadata": {},
   "outputs": [],
   "source": [
    "# Crear un array booleano\n",
    "array_booleanos = np.array([True, False, True, False],\n",
    "                           dtype=np.bool_)\n",
    "print(\"Array booleano:\", array_booleanos)"
   ]
  },
  {
   "cell_type": "markdown",
   "metadata": {},
   "source": [
    "#### Arrays de Cadenas de Caracteres\n",
    "Los arrays de cadenas de caracteres contienen textos o caracteres."
   ]
  },
  {
   "cell_type": "code",
   "execution_count": null,
   "metadata": {},
   "outputs": [],
   "source": [
    "# Crear un array de cadenas de caracteres\n",
    "array_cadenas = np.array(['a', 'b', 'c', 'd'], dtype=np.str_)\n",
    "print(\"Array de cadenas de caracteres:\", array_cadenas)"
   ]
  },
  {
   "cell_type": "markdown",
   "metadata": {},
   "source": [
    "#### Arrays de Tipos Mixtos\n",
    "Aunque NumPy prefiere arrays homogéneos, es posible crear arrays de tipos mixtos. Sin embargo, esto puede comprometer la eficiencia."
   ]
  },
  {
   "cell_type": "code",
   "execution_count": null,
   "metadata": {},
   "outputs": [],
   "source": [
    "# Crear un array de tipos mixtos\n",
    "array_mixto = np.array([1, 'a', 3.14, True])\n",
    "print(\"Array de tipos mixtos:\", array_mixto)"
   ]
  },
  {
   "cell_type": "markdown",
   "metadata": {},
   "source": [
    "### Propiedades de los Arrays\n",
    "\n",
    "Los arrays de NumPy tienen varias propiedades importantes que nos permiten entender mejor su estructura y contenido. Algunas de las propiedades más utilizadas son:\n",
    "\n",
    "- **Forma (shape)**: Devuelve una tupla que indica el tamaño de cada dimensión del array.\n",
    "- **Número de dimensiones (ndim)**: Devuelve el número de dimensiones del array. Un array unidimensional tiene `ndim=1`, un array bidimensional tiene `ndim=2`, y así sucesivamente.\n",
    "- **Tamaño (size)**: Devuelve el número total de elementos en el array.\n",
    "- **Tipo de datos (dtype)**: Devuelve el tipo de datos de los elementos del array (por ejemplo, enteros, flotantes, booleanos, etc.).\n",
    "- **Tamaño del elemento (itemsize)**: Devuelve el tamaño en bytes de cada elemento del array. Esto es útil para entender cuánto espacio en memoria ocupa cada elemento.\n",
    "- **Buffer de datos (data)**: Devuelve un objeto buffer que apunta a la ubicación en memoria de los datos del array. Esto es más técnico y se usa en operaciones avanzadas para acceder directamente a los datos.\n",
    "\n",
    "A continuación, se muestran ejemplos de cómo acceder a estas propiedades."
   ]
  },
  {
   "cell_type": "code",
   "execution_count": null,
   "metadata": {},
   "outputs": [],
   "source": [
    "# Crear un array de ejemplo\n",
    "array = np.array([[1, 2, 3], [4, 5, 6], [7, 8, 9]])\n",
    "\n",
    "# Imprimir el array\n",
    "array"
   ]
  },
  {
   "cell_type": "code",
   "execution_count": null,
   "metadata": {},
   "outputs": [],
   "source": [
    "# Forma del array\n",
    "print(\"Forma del array:\", array.shape)"
   ]
  },
  {
   "cell_type": "code",
   "execution_count": null,
   "metadata": {},
   "outputs": [],
   "source": [
    "# Ejemplo de arrays con diferentes dimensiones\n",
    "array_1d = np.array([1, 2, 3])  # Unidimensional o plano\n",
    "array_2d = np.array([[1, 2, 3], [4, 5, 6]])  # Bidimensional\n",
    "array_3d = np.array([[[1, 2, 3], [4, 5, 6]], [[7, 8, 9], [10, 11, 12]]])  # Tridimensional\n",
    "\n",
    "print(\"Número de dimensiones (array_1d):\", array_1d.ndim)\n",
    "print(\"Número de dimensiones (array_2d):\", array_2d.ndim)\n",
    "print(\"Número de dimensiones (array_3d):\", array_3d.ndim)"
   ]
  },
  {
   "cell_type": "code",
   "execution_count": null,
   "metadata": {},
   "outputs": [],
   "source": [
    "# Tamaño del array\n",
    "print(\"Tamaño del array:\", array.size)"
   ]
  },
  {
   "cell_type": "code",
   "execution_count": null,
   "metadata": {},
   "outputs": [],
   "source": [
    "# Tipo de datos de los elementos\n",
    "print(\"Tipo de datos de los elementos:\", array.dtype)"
   ]
  },
  {
   "cell_type": "code",
   "execution_count": null,
   "metadata": {},
   "outputs": [],
   "source": [
    "# Ejemplo mostrando el tamaño del elemento\n",
    "array_int = np.array([1, 2, 3], dtype=np.int32)\n",
    "array_float = np.array([1.0, 2.0, 3.0], dtype=np.float64)\n",
    "\n",
    "print(\"Tamaño del elemento (int):\", array_int.itemsize, \"bytes\")\n",
    "print(\"Tamaño del elemento (float):\", array_float.itemsize, \"bytes\")"
   ]
  },
  {
   "cell_type": "code",
   "execution_count": null,
   "metadata": {},
   "outputs": [],
   "source": [
    "# Buffer de datos\n",
    "print(\"Buffer de datos:\", array.data)"
   ]
  },
  {
   "cell_type": "markdown",
   "metadata": {},
   "source": [
    "## Operaciones Básicas con Arrays\n",
    "\n",
    "### Acceso a Elementos y Slicing\n",
    "\n",
    "El acceso a los elementos y el slicing (segmentación) en los arrays de NumPy son operaciones fundamentales para manipular y trabajar con datos de manera eficiente.\n",
    "\n",
    "#### Acceso a Elementos\n",
    "\n",
    "Podemos acceder a elementos individuales de un array utilizando índices. Los índices en NumPy comienzan en 0."
   ]
  },
  {
   "cell_type": "code",
   "execution_count": null,
   "metadata": {},
   "outputs": [],
   "source": [
    "# Crear un array unidimensional\n",
    "array_1d = np.array([10, 20, 30, 40, 50])\n",
    "print(\"Elemento en la posición 0:\", array_1d[0])  # 10\n",
    "print(\"Elemento en la posición 4:\", array_1d[4])  # 50"
   ]
  },
  {
   "cell_type": "markdown",
   "metadata": {},
   "source": [
    "#### Slicing (Segmentación)\n",
    "El slicing permite extraer subarrays de un array original. Utilizamos el operador de dos puntos : para indicar el inicio y el fin del slicing."
   ]
  },
  {
   "cell_type": "code",
   "execution_count": null,
   "metadata": {},
   "outputs": [],
   "source": [
    "# Crear un array unidimensional\n",
    "array_1d = np.array([10, 20, 30, 40, 50])\n",
    "print(\"Subarray de la posición 1 a la 3:\", array_1d[1:4])  # [20, 30, 40]"
   ]
  },
  {
   "cell_type": "code",
   "execution_count": null,
   "metadata": {},
   "outputs": [],
   "source": [
    "# Crear un array bidimensional\n",
    "array_2d = np.array([[1, 2, 3], [4, 5, 6], [7, 8, 9]])\n",
    "print(\"Subarray de la primera fila:\", array_2d[0, :])  # [1, 2, 3]\n",
    "print(\"Subarray de la segunda columna:\", array_2d[:, 1])  # [2, 5, 8]\n",
    "print(\"Subarray de las dos primeras filas y dos primeras columnas:\\n\",\n",
    "      array_2d[0:2, 0:2])  # [[1, 2], [4, 5]]"
   ]
  },
  {
   "cell_type": "markdown",
   "metadata": {},
   "source": [
    "### Modificación de Arrays\n",
    "\n",
    "Modificar los arrays de NumPy es una tarea común que incluye cambiar los valores de los elementos, añadir nuevas filas o columnas, eliminar elementos y más. A continuación, se muestran varias formas de modificar arrays.\n",
    "\n",
    "#### Modificación de Elementos\n",
    "\n",
    "Podemos cambiar el valor de elementos individuales en un array utilizando sus índices."
   ]
  },
  {
   "cell_type": "code",
   "execution_count": null,
   "metadata": {},
   "outputs": [],
   "source": [
    "# Crear un array unidimensional\n",
    "array_1d = np.array([10, 20, 30, 40, 50])\n",
    "array_1d[0] = 100  # Cambiar el primer elemento a 100\n",
    "print(\"Array modificado:\", array_1d)"
   ]
  },
  {
   "cell_type": "code",
   "execution_count": null,
   "metadata": {},
   "outputs": [],
   "source": [
    "# Crear un array bidimensional\n",
    "array_2d = np.array([[1, 2, 3], [4, 5, 6], [7, 8, 9]])\n",
    "array_2d[0, 1] = 200  # Cambiar el elemento en la posición (0, 1) a 200\n",
    "print(\"Array bidimensional modificado:\\n\", array_2d)"
   ]
  },
  {
   "cell_type": "markdown",
   "metadata": {},
   "source": [
    "#### Añadir Elementos\n",
    "Aunque los arrays de NumPy tienen un tamaño fijo, podemos crear nuevos arrays que incluyan los nuevos elementos."
   ]
  },
  {
   "cell_type": "code",
   "execution_count": null,
   "metadata": {},
   "outputs": [],
   "source": [
    "# Crear un array unidimensional\n",
    "array_1d = np.array([10, 20, 30])\n",
    "array_1d_nuevo = np.append(array_1d, [40, 50])\n",
    "print(\"Array con nuevos elementos:\", array_1d_nuevo)"
   ]
  },
  {
   "cell_type": "code",
   "execution_count": null,
   "metadata": {},
   "outputs": [],
   "source": [
    "# Crear un array bidimensional\n",
    "array_2d = np.array([[1, 2, 3], [4, 5, 6]])\n",
    "array_2d_nuevo = np.append(array_2d, [[7, 8, 9]], axis=0)  # Añadir una nueva fila\n",
    "print(\"Array bidimensional con nueva fila:\\n\", array_2d_nuevo)"
   ]
  },
  {
   "cell_type": "markdown",
   "metadata": {},
   "source": [
    "#### Eliminar Elementos\n",
    "Podemos eliminar elementos de un array utilizando la función np.delete."
   ]
  },
  {
   "cell_type": "code",
   "execution_count": null,
   "metadata": {},
   "outputs": [],
   "source": [
    "# Crear un array unidimensional\n",
    "array_1d = np.array([10, 20, 30, 40, 50])\n",
    "array_1d_modificado = np.delete(array_1d, [1, 3])  # Eliminar los elementos en las posiciones 1 y 3\n",
    "print(\"Array con elementos eliminados:\", array_1d_modificado)"
   ]
  },
  {
   "cell_type": "code",
   "execution_count": null,
   "metadata": {},
   "outputs": [],
   "source": [
    "# Crear un array bidimensional\n",
    "array_2d = np.array([[1, 2, 3], [4, 5, 6], [7, 8, 9]])\n",
    "array_2d_modificado = np.delete(array_2d, 1, axis=0)  # Eliminar la segunda fila\n",
    "print(\"Array bidimensional con fila eliminada:\\n\", array_2d_modificado)"
   ]
  },
  {
   "cell_type": "markdown",
   "metadata": {},
   "source": [
    "#### Modificación de Subarrays\n",
    "Podemos modificar subarrays utilizando slicing."
   ]
  },
  {
   "cell_type": "code",
   "execution_count": null,
   "metadata": {},
   "outputs": [],
   "source": [
    "# Crear un array bidimensional\n",
    "array_2d = np.array([[1, 2, 3], [4, 5, 6], [7, 8, 9]])\n",
    "array_2d[0:2, 1:3] = 100  # Cambiar una submatriz a 100\n",
    "print(\"Array bidimensional con submatriz modificada:\\n\", array_2d)"
   ]
  },
  {
   "cell_type": "markdown",
   "metadata": {},
   "source": [
    "### Operaciones Numéricas Básicas\n",
    "\n",
    "NumPy facilita la realización de operaciones numéricas básicas en arrays de manera eficiente. Estas operaciones se realizan elemento por elemento y son mucho más rápidas que las operaciones en listas de Python.\n",
    "\n",
    "#### Operaciones Aritméticas\n",
    "\n",
    "Podemos realizar operaciones aritméticas como suma, resta, multiplicación y división directamente en arrays de NumPy."
   ]
  },
  {
   "cell_type": "code",
   "execution_count": null,
   "metadata": {},
   "outputs": [],
   "source": [
    "# Crear dos arrays de ejemplo\n",
    "array_1 = np.array([1, 2, 3, 4, 5])\n",
    "array_2 = np.array([10, 20, 30, 40, 50])\n",
    "\n",
    "# Suma de arrays\n",
    "suma = array_1 + array_2\n",
    "print(\"Suma de arrays:\", suma)"
   ]
  },
  {
   "cell_type": "code",
   "execution_count": null,
   "metadata": {},
   "outputs": [],
   "source": [
    "# Resta de arrays\n",
    "resta = array_2 - array_1\n",
    "print(\"Resta de arrays:\", resta)"
   ]
  },
  {
   "cell_type": "code",
   "execution_count": null,
   "metadata": {},
   "outputs": [],
   "source": [
    "# Multiplicación de arrays (Elemento por elemento, no multiplicación de matrices)\n",
    "multiplicacion = array_1 * array_2\n",
    "print(\"Multiplicación de arrays:\", multiplicacion)"
   ]
  },
  {
   "cell_type": "code",
   "execution_count": null,
   "metadata": {},
   "outputs": [],
   "source": [
    "# División de arrays\n",
    "division = array_2 / array_1\n",
    "print(\"División de arrays:\", division)"
   ]
  },
  {
   "cell_type": "markdown",
   "metadata": {},
   "source": [
    "#### Operaciones con Escalares\n",
    "Podemos realizar operaciones aritméticas entre arrays y escalares (números únicos)."
   ]
  },
  {
   "cell_type": "code",
   "execution_count": null,
   "metadata": {},
   "outputs": [],
   "source": [
    "# Crear un array de ejemplo\n",
    "array = np.array([1, 2, 3, 4, 5])\n",
    "\n",
    "# Sumar un escalar a cada elemento del array\n",
    "suma_escalar = array + 10\n",
    "print(\"Suma con escalar:\", suma_escalar)"
   ]
  },
  {
   "cell_type": "code",
   "execution_count": null,
   "metadata": {},
   "outputs": [],
   "source": [
    "# Multiplicar cada elemento del array por un escalar\n",
    "multiplicacion_escalar = array * 2\n",
    "print(\"Multiplicación con escalar:\", multiplicacion_escalar)"
   ]
  },
  {
   "cell_type": "markdown",
   "metadata": {},
   "source": [
    "#### Operaciones Matemáticas\n",
    "NumPy incluye funciones matemáticas avanzadas que se pueden aplicar a los elementos de los arrays."
   ]
  },
  {
   "cell_type": "code",
   "execution_count": null,
   "metadata": {},
   "outputs": [],
   "source": [
    "np.pi"
   ]
  },
  {
   "cell_type": "code",
   "execution_count": null,
   "metadata": {},
   "outputs": [],
   "source": [
    "# Crear un array de ejemplo\n",
    "array = np.array([0, np.pi/2, np.pi, 3*np.pi/2, 2*np.pi])\n",
    "\n",
    "# Calcular el seno de cada elemento del array\n",
    "seno = np.sin(array)\n",
    "print(\"Seno de los elementos:\", seno)"
   ]
  },
  {
   "cell_type": "code",
   "execution_count": null,
   "metadata": {},
   "outputs": [],
   "source": [
    "# Calcular el logaritmo natural de cada elemento del array\n",
    "array_pos = np.array([1, 2, 3, 4, 5])\n",
    "logaritmo = np.log(array_pos)\n",
    "print(\"Logaritmo natural de los elementos:\", logaritmo)"
   ]
  },
  {
   "cell_type": "code",
   "execution_count": null,
   "metadata": {},
   "outputs": [],
   "source": [
    "# Crear un array de ejemplo\n",
    "array = np.array([1, 2, 3, 4, 5])\n",
    "\n",
    "# Calcular la suma de todos los elementos del array\n",
    "suma_total = np.sum(array)\n",
    "print(\"Suma total de los elementos:\", suma_total)"
   ]
  },
  {
   "cell_type": "code",
   "execution_count": null,
   "metadata": {},
   "outputs": [],
   "source": [
    "# Crear una matriz de ejemplo\n",
    "matriz = np.array([[1, 2, 3], [4, 5, 6]])\n",
    "\n",
    "# Calcular la suma a lo largo de las filas (axis=1)\n",
    "suma_filas = np.sum(matriz, axis=1)\n",
    "print(\"Suma a lo largo de las filas:\", suma_filas)"
   ]
  },
  {
   "cell_type": "code",
   "execution_count": null,
   "metadata": {},
   "outputs": [],
   "source": [
    "# Calcular la suma a lo largo de las columnas (axis=0)\n",
    "suma_columnas = np.sum(matriz, axis=0)\n",
    "print(\"Suma a lo largo de las columnas:\", suma_columnas)"
   ]
  },
  {
   "cell_type": "markdown",
   "metadata": {},
   "source": [
    "#### Redondeo y Funciones de Redondeo\n",
    "NumPy proporciona funciones para redondear los elementos de los arrays."
   ]
  },
  {
   "cell_type": "code",
   "execution_count": null,
   "metadata": {},
   "outputs": [],
   "source": [
    "# Crear un array de ejemplo\n",
    "array = np.array([1.2, 2.5, 3.8, 4.1])\n",
    "\n",
    "# Redondear hacia el entero más cercano\n",
    "redondeo = np.round(array)\n",
    "print(\"Redondeo de los elementos:\", redondeo)"
   ]
  },
  {
   "cell_type": "code",
   "execution_count": null,
   "metadata": {},
   "outputs": [],
   "source": [
    "# Redondear hacia abajo (floor)\n",
    "redondeo_abajo = np.floor(array)\n",
    "print(\"Redondeo hacia abajo (floor):\", redondeo_abajo)"
   ]
  },
  {
   "cell_type": "code",
   "execution_count": null,
   "metadata": {},
   "outputs": [],
   "source": [
    "# Redondear hacia arriba (ceil)\n",
    "redondeo_arriba = np.ceil(array)\n",
    "print(\"Redondeo hacia arriba (ceil):\", redondeo_arriba)"
   ]
  },
  {
   "cell_type": "markdown",
   "metadata": {},
   "source": [
    "### Uso de Máscaras Booleanas\n",
    "\n",
    "Las máscaras booleanas son una técnica poderosa en NumPy para filtrar y seleccionar datos en arrays. Una máscara booleana es un array de valores booleanos (`True` o `False`) que indica si un elemento debe ser incluido en el resultado. Esta técnica permite aplicar condiciones directamente a los elementos del array y obtener un nuevo array con los elementos que cumplen la condición.\n",
    "\n",
    "#### Creación de Máscaras Booleanas\n",
    "\n",
    "Podemos crear una máscara booleana aplicando una condición a un array. La máscara booleana resultante puede luego ser utilizada para filtrar el array original."
   ]
  },
  {
   "cell_type": "code",
   "execution_count": null,
   "metadata": {},
   "outputs": [],
   "source": [
    "# Crear un array de ejemplo\n",
    "array = np.array([1, 2, 3, 4, 5])\n",
    "\n",
    "# Crear una máscara booleana para los elementos mayores a 3\n",
    "mascara = array > 3\n",
    "print(\"Máscara booleana:\", mascara)"
   ]
  },
  {
   "cell_type": "code",
   "execution_count": null,
   "metadata": {},
   "outputs": [],
   "source": [
    "np.sum(mascara)"
   ]
  },
  {
   "cell_type": "code",
   "execution_count": null,
   "metadata": {},
   "outputs": [],
   "source": [
    "# Usar la máscara booleana para filtrar el array\n",
    "filtrado = array[mascara]\n",
    "print(\"Array filtrado:\", filtrado)"
   ]
  },
  {
   "cell_type": "code",
   "execution_count": null,
   "metadata": {},
   "outputs": [],
   "source": [
    "array = np.array([1, 2, 3, 4, 5])\n",
    "lista=[]\n",
    "for num in array:\n",
    "    if num>3:\n",
    "        lista.append(num)\n",
    "filtrado=np.array(lista)\n",
    "\n",
    "array = np.array([1, 2, 3, 4, 5])\n",
    "filtrado=array[array > 3]\n",
    "filtrado"
   ]
  },
  {
   "cell_type": "markdown",
   "metadata": {},
   "source": [
    "#### Combinación de Máscaras Booleanas\n",
    "Podemos combinar múltiples condiciones utilizando operadores lógicos (`&`, `|`, `~`) para crear máscaras booleanas más complejas."
   ]
  },
  {
   "cell_type": "code",
   "execution_count": null,
   "metadata": {},
   "outputs": [],
   "source": [
    "# Crear un array de ejemplo\n",
    "array = np.array([1, 2, 3, 4, 5, 6, 7, 8, 9, 10])\n",
    "\n",
    "# Crear una máscara booleana para los elementos mayores a 3 y menores o iguales a 8\n",
    "mascara = (array > 3) & (array <= 8)\n",
    "print(\"Máscara booleana combinada:\", mascara)"
   ]
  },
  {
   "cell_type": "code",
   "execution_count": null,
   "metadata": {},
   "outputs": [],
   "source": [
    "# Usar la máscara booleana para filtrar el array\n",
    "filtrado = array[mascara]\n",
    "print(\"Array filtrado con máscara combinada:\", filtrado)"
   ]
  },
  {
   "cell_type": "markdown",
   "metadata": {},
   "source": [
    "#### Modificación de Elementos Usando Máscaras Booleanas\n",
    "También podemos usar máscaras booleanas para modificar elementos específicos en un array."
   ]
  },
  {
   "cell_type": "code",
   "execution_count": null,
   "metadata": {},
   "outputs": [],
   "source": [
    "# Crear un array de ejemplo\n",
    "array = np.array([1, 2, 3, 4, 5, 6, 7, 8, 9, 10])\n",
    "\n",
    "# Crear una máscara booleana para los elementos que son pares\n",
    "mascara = array % 2 == 0\n",
    "\n",
    "mascara"
   ]
  },
  {
   "cell_type": "code",
   "execution_count": null,
   "metadata": {},
   "outputs": [],
   "source": [
    "# Modificar los elementos que cumplen la condición\n",
    "array[mascara] = -1\n",
    "print(\"Array modificado con máscara booleana:\", array)"
   ]
  },
  {
   "cell_type": "markdown",
   "metadata": {},
   "source": [
    "### Operaciones con Arreglos Booleanos\n",
    "\n",
    "Las operaciones con arreglos booleanos en NumPy permiten realizar cálculos y manipulaciones lógicas sobre arrays. Estas operaciones son fundamentales para la selección condicional y la manipulación de datos.\n",
    "\n",
    "#### Operaciones Lógicas\n",
    "\n",
    "Podemos realizar operaciones lógicas como AND, OR, y NOT utilizando los operadores `&`, `|`, y `~` respectivamente."
   ]
  },
  {
   "cell_type": "code",
   "execution_count": null,
   "metadata": {},
   "outputs": [],
   "source": [
    "# Crear dos arreglos booleanos de ejemplo\n",
    "a = np.array([True, False, True, False])\n",
    "b = np.array([False, False, True, True])\n",
    "\n",
    "# Operación lógica AND\n",
    "and_result = a & b\n",
    "print(\"AND:\", and_result)"
   ]
  },
  {
   "cell_type": "code",
   "execution_count": null,
   "metadata": {},
   "outputs": [],
   "source": [
    "# Operación lógica OR\n",
    "or_result = a | b\n",
    "print(\"OR:\", or_result)"
   ]
  },
  {
   "cell_type": "code",
   "execution_count": null,
   "metadata": {},
   "outputs": [],
   "source": [
    "# Operación lógica NOT\n",
    "not_result = ~a\n",
    "print(\"NOT:\", not_result)"
   ]
  },
  {
   "cell_type": "markdown",
   "metadata": {},
   "source": [
    "#### Funciones Lógicas de NumPy\n",
    "NumPy proporciona funciones lógicas para trabajar con arreglos booleanos, como `np.logical_and`, `np.logical_or`, y `np.logical_not`."
   ]
  },
  {
   "cell_type": "code",
   "execution_count": null,
   "metadata": {},
   "outputs": [],
   "source": [
    "# Crear dos arreglos booleanos de ejemplo\n",
    "a = np.array([True, False, True, False])\n",
    "b = np.array([False, False, True, True])\n",
    "\n",
    "# Función lógica AND\n",
    "and_result = np.logical_and(a, b)\n",
    "print(\"logical_and:\", and_result)"
   ]
  },
  {
   "cell_type": "code",
   "execution_count": null,
   "metadata": {},
   "outputs": [],
   "source": [
    "# Función lógica OR\n",
    "or_result = np.logical_or(a, b)\n",
    "print(\"logical_or:\", or_result)"
   ]
  },
  {
   "cell_type": "code",
   "execution_count": null,
   "metadata": {},
   "outputs": [],
   "source": [
    "# Función lógica NOT\n",
    "not_result = np.logical_not(a)\n",
    "print(\"logical_not:\", not_result)"
   ]
  },
  {
   "cell_type": "markdown",
   "metadata": {},
   "source": [
    "### Funciones Matemáticas\n",
    "\n",
    "Las funciones matemáticas en NumPy incluyen operaciones trigonométricas, exponenciales, logarítmicas, entre otras. Algunas de las funciones más comunes son:\n",
    "\n",
    "#### Seno y Coseno\n",
    "\n",
    "Podemos calcular el seno y el coseno de los elementos de un array."
   ]
  },
  {
   "cell_type": "code",
   "execution_count": null,
   "metadata": {},
   "outputs": [],
   "source": [
    "# Crear un array de ángulos en radianes\n",
    "array = np.array([0, np.pi/2, np.pi, 3*np.pi/2, 2*np.pi])\n",
    "\n",
    "# Calcular el seno de cada elemento del array\n",
    "seno = np.sin(array)\n",
    "print(\"Seno de los elementos:\", seno)"
   ]
  },
  {
   "cell_type": "code",
   "execution_count": null,
   "metadata": {},
   "outputs": [],
   "source": [
    "# Calcular el coseno de cada elemento del array\n",
    "coseno = np.cos(array)\n",
    "print(\"Coseno de los elementos:\", coseno)"
   ]
  },
  {
   "cell_type": "markdown",
   "metadata": {},
   "source": [
    "#### Exponencial y Logaritmo\n",
    "Podemos calcular el exponencial y el logaritmo natural de los elementos de un array."
   ]
  },
  {
   "cell_type": "code",
   "execution_count": null,
   "metadata": {},
   "outputs": [],
   "source": [
    "# Crear un array de ejemplo\n",
    "array = np.array([1, 2, 3, 4, 5])\n",
    "\n",
    "# Calcular el exponencial de cada elemento del array\n",
    "exponencial = np.exp(array)\n",
    "print(\"Exponencial de los elementos:\", exponencial)"
   ]
  },
  {
   "cell_type": "code",
   "execution_count": null,
   "metadata": {},
   "outputs": [],
   "source": [
    "# Calcular el logaritmo natural de cada elemento del array\n",
    "logaritmo = np.log(array)\n",
    "print(\"Logaritmo natural de los elementos:\", logaritmo)"
   ]
  },
  {
   "cell_type": "markdown",
   "metadata": {},
   "source": [
    "### Funciones Estadísticas\n",
    "NumPy incluye funciones estadísticas que permiten calcular medidas como la media, la mediana, la desviación estándar, entre otras. Estas funciones son fundamentales para el análisis de datos.\n",
    "\n",
    "#### Media y Mediana\n",
    "Podemos calcular la media y la mediana de los elementos de un array."
   ]
  },
  {
   "cell_type": "code",
   "execution_count": null,
   "metadata": {},
   "outputs": [],
   "source": [
    "# Crear un array de ejemplo\n",
    "array = np.array([1, 2, 3, 4, 5, 6, 7, 8, 9, 10])\n",
    "\n",
    "# Calcular la media de los elementos del array\n",
    "media = np.mean(array)\n",
    "print(\"Media de los elementos:\", media)"
   ]
  },
  {
   "cell_type": "code",
   "execution_count": null,
   "metadata": {},
   "outputs": [],
   "source": [
    "# Calcular la mediana de los elementos del array\n",
    "mediana = np.median(array)\n",
    "print(\"Mediana de los elementos:\", mediana)"
   ]
  },
  {
   "cell_type": "markdown",
   "metadata": {},
   "source": [
    "#### Desviación Estándar y Varianza\n",
    "Podemos calcular la desviación estándar y la varianza de los elementos de un array."
   ]
  },
  {
   "cell_type": "code",
   "execution_count": null,
   "metadata": {},
   "outputs": [],
   "source": [
    "# Crear un array de ejemplo\n",
    "array = np.array([1, 2, 3, 4, 5, 6, 7, 8, 9, 10])\n",
    "\n",
    "# Calcular la desviación estándar de los elementos del array\n",
    "desviacion_estandar = np.std(array)\n",
    "print(\"Desviación estándar de los elementos:\", desviacion_estandar)"
   ]
  },
  {
   "cell_type": "code",
   "execution_count": null,
   "metadata": {},
   "outputs": [],
   "source": [
    "# Calcular la varianza de los elementos del array\n",
    "varianza = np.var(array)\n",
    "print(\"Varianza de los elementos:\", varianza)"
   ]
  },
  {
   "cell_type": "markdown",
   "metadata": {},
   "source": [
    "### Redimensionamiento y Transposición\n",
    "\n",
    "La manipulación de arrays en NumPy incluye operaciones como redimensionar (reshape) y transponer (transpose) arrays. Estas operaciones permiten reorganizar los datos en diferentes formas y estructuras sin cambiar los datos originales.\n",
    "\n",
    "#### Redimensionamiento (Reshape)\n",
    "\n",
    "Podemos cambiar la forma de un array utilizando la función `reshape`. Esta función nos permite especificar una nueva forma para el array, siempre que el número total de elementos se mantenga igual."
   ]
  },
  {
   "cell_type": "code",
   "execution_count": null,
   "metadata": {},
   "outputs": [],
   "source": [
    "# Crear un array unidimensional\n",
    "array = np.array([1, 2, 3, 4, 5, 6, 7, 8])\n",
    "\n",
    "# Redimensionar el array a una matriz 2x4\n",
    "array_reshaped = array.reshape((2, 4))\n",
    "print(\"Array redimensionado a 2x4:\\n\", array_reshaped)"
   ]
  },
  {
   "cell_type": "code",
   "execution_count": null,
   "metadata": {},
   "outputs": [],
   "source": [
    "# Redimensionar el array a una matriz 4x2\n",
    "array_reshaped = array.reshape((4, 2))\n",
    "print(\"Array redimensionado a 4x2:\\n\", array_reshaped)"
   ]
  },
  {
   "cell_type": "markdown",
   "metadata": {},
   "source": [
    "#### Transposición (Transpose)\n",
    "\n",
    "La transposición de un array implica intercambiar sus filas y columnas. Podemos usar la función `transpose` para realizar esta operación."
   ]
  },
  {
   "cell_type": "code",
   "execution_count": null,
   "metadata": {},
   "outputs": [],
   "source": [
    "# Crear una matriz 2x3\n",
    "matriz = np.array([[1, 2, 3], [4, 5, 6]])\n",
    "\n",
    "# Transponer la matriz\n",
    "matriz_transpuesta = matriz.transpose()\n",
    "print(\"Matriz transpuesta:\\n\", matriz_transpuesta)"
   ]
  },
  {
   "cell_type": "code",
   "execution_count": null,
   "metadata": {},
   "outputs": [],
   "source": [
    "# Alternativamente, podemos usar el método .T\n",
    "matriz_transpuesta = matriz.T\n",
    "print(\"Matriz transpuesta (usando .T):\\n\", matriz_transpuesta)"
   ]
  },
  {
   "cell_type": "markdown",
   "metadata": {},
   "source": [
    "#### Aplanamiento (Flatten)\n",
    "\n",
    "Podemos aplanar un array multidimensional a un array unidimensional utilizando la función `flatten`."
   ]
  },
  {
   "cell_type": "code",
   "execution_count": null,
   "metadata": {},
   "outputs": [],
   "source": [
    "# Crear una matriz 2x3\n",
    "matriz = np.array([[1, 2, 3], [4, 5, 6]])\n",
    "\n",
    "# Aplanar la matriz a un array unidimensional\n",
    "array_aplanado = matriz.flatten()\n",
    "print(\"Array aplanado:\", array_aplanado)"
   ]
  },
  {
   "cell_type": "markdown",
   "metadata": {},
   "source": [
    "## Manipulación de Arrays\n",
    "\n",
    "### Concatenación y Apilamiento de Arrays\n",
    "\n",
    "La concatenación y el apilamiento de arrays son operaciones fundamentales en NumPy que permiten combinar múltiples arrays en uno solo. Estas operaciones pueden realizarse tanto horizontal como verticalmente, facilitando la organización y manipulación de datos.\n",
    "\n",
    "#### Concatenación de Arrays\n",
    "\n",
    "La concatenación de arrays se realiza utilizando la función `np.concatenate`. Podemos concatenar arrays a lo largo de diferentes ejes (por defecto, a lo largo del primer eje)."
   ]
  },
  {
   "cell_type": "code",
   "execution_count": null,
   "metadata": {},
   "outputs": [],
   "source": [
    "# Crear dos arrays unidimensionales\n",
    "array1 = np.array([1, 2, 3])\n",
    "array2 = np.array([4, 5, 6])\n",
    "\n",
    "# Concatenar los arrays\n",
    "concatenado = np.concatenate((array1, array2))\n",
    "print(\"Arrays concatenados:\", concatenado)"
   ]
  },
  {
   "cell_type": "code",
   "execution_count": null,
   "metadata": {},
   "outputs": [],
   "source": [
    "# Crear dos arrays bidimensionales\n",
    "array1 = np.array([[1, 2], [3, 4]])\n",
    "array2 = np.array([[5, 6], [7, 8]])\n",
    "\n",
    "# Concatenar los arrays a lo largo del primer eje (filas)\n",
    "concatenado = np.concatenate((array1, array2), axis=0)\n",
    "print(\"Arrays bidimensionales concatenados a lo largo del primer eje:\\n\", concatenado)"
   ]
  },
  {
   "cell_type": "code",
   "execution_count": null,
   "metadata": {},
   "outputs": [],
   "source": [
    "# Concatenar los arrays a lo largo del segundo eje (columnas)\n",
    "concatenado = np.concatenate((array1, array2), axis=1)\n",
    "print(\"Arrays bidimensionales concatenados a lo largo del segundo eje:\\n\", concatenado)"
   ]
  },
  {
   "cell_type": "markdown",
   "metadata": {},
   "source": [
    "### Apilamiento de Arrays\n",
    "\n",
    "El apilamiento de arrays se puede realizar de varias maneras: verticalmente (`np.vstack`), horizontalmente (`np.hstack`) y en profundidad (`np.dstack`).\n",
    "\n",
    "#### Apilamiento Vertical (vstack)\n",
    "\n",
    "Apila arrays verticalmente (uno encima del otro)."
   ]
  },
  {
   "cell_type": "code",
   "execution_count": null,
   "metadata": {},
   "outputs": [],
   "source": [
    "# Crear dos arrays unidimensionales\n",
    "array1 = np.array([1, 2, 3])\n",
    "array2 = np.array([4, 5, 6])\n",
    "\n",
    "# Apilar los arrays verticalmente\n",
    "apilado_vertical = np.vstack((array1, array2))\n",
    "print(\"Arrays apilados verticalmente:\\n\", apilado_vertical)"
   ]
  },
  {
   "cell_type": "markdown",
   "metadata": {},
   "source": [
    "#### Apilamiento Horizontal (hstack)\n",
    "\n",
    "Apila arrays horizontalmente (uno al lado del otro)."
   ]
  },
  {
   "cell_type": "code",
   "execution_count": null,
   "metadata": {},
   "outputs": [],
   "source": [
    "# Crear dos arrays unidimensionales\n",
    "array1 = np.array([1, 2, 3])\n",
    "array2 = np.array([4, 5, 6])\n",
    "\n",
    "# Apilar los arrays horizontalmente\n",
    "apilado_horizontal = np.hstack((array1, array2))\n",
    "print(\"Arrays apilados horizontalmente:\", apilado_horizontal)"
   ]
  },
  {
   "cell_type": "markdown",
   "metadata": {},
   "source": [
    "#### Apilamiento en Profundidad (dstack)\n",
    "\n",
    "Apila arrays a lo largo de una tercera dimensión (profundidad)."
   ]
  },
  {
   "cell_type": "code",
   "execution_count": null,
   "metadata": {},
   "outputs": [],
   "source": [
    "# Crear dos arrays bidimensionales\n",
    "array1 = np.array([[1, 2], [3, 4]])\n",
    "array2 = np.array([[5, 6], [7, 8]])\n",
    "\n",
    "# Apilar los arrays en profundidad\n",
    "apilado_profundidad = np.dstack((array1, array2))\n",
    "print(\"Arrays apilados en profundidad:\\n\", apilado_profundidad)"
   ]
  },
  {
   "cell_type": "code",
   "execution_count": null,
   "metadata": {},
   "outputs": [],
   "source": [
    "# Validamos la forma del nuevo arreglo\n",
    "apilado_profundidad.shape"
   ]
  },
  {
   "cell_type": "markdown",
   "metadata": {},
   "source": [
    "### Copia de Arrays\n",
    "\n",
    "Cuando copiamos arrays en NumPy, podemos hacerlo de dos maneras: asignación directa y utilizando el método `copy`.\n",
    "\n",
    "#### Asignación Directa\n",
    "\n",
    "Asignar un array directamente a una nueva variable no crea una copia independiente. En su lugar, ambas variables apuntan al mismo array en la memoria, por lo que los cambios en uno afectarán al otro."
   ]
  },
  {
   "cell_type": "code",
   "execution_count": null,
   "metadata": {},
   "outputs": [],
   "source": [
    "# Crear un array de ejemplo\n",
    "array_original = np.array([1, 2, 3, 4, 5])\n",
    "\n",
    "# Asignar el array a una nueva variable (mala práctica)\n",
    "array_copia_mala = array_original\n",
    "\n",
    "# Modificar el array copiado\n",
    "array_copia_mala[0] = 100\n",
    "\n",
    "print(\"Array original después de la mala copia:\", array_original)\n",
    "print(\"Array copia después de la mala copia:\", array_copia_mala)"
   ]
  },
  {
   "cell_type": "markdown",
   "metadata": {},
   "source": [
    "#### Copia Independiente\n",
    "\n",
    "Para crear una copia independiente de un array, utilizamos el método `copy`."
   ]
  },
  {
   "cell_type": "code",
   "execution_count": null,
   "metadata": {},
   "outputs": [],
   "source": [
    "# Crear un array de ejemplo\n",
    "array_original = np.array([1, 2, 3, 4, 5])\n",
    "\n",
    "# Crear una copia independiente del array\n",
    "array_copia_buena = array_original.copy()\n",
    "\n",
    "# Modificar el array copiado\n",
    "array_copia_buena[0] = 100\n",
    "\n",
    "print(\"Array original después de la buena copia:\", array_original)\n",
    "print(\"Array copia después de la buena copia:\", array_copia_buena)"
   ]
  },
  {
   "cell_type": "markdown",
   "metadata": {},
   "source": [
    "## Operaciones Avanzadas\n",
    "\n",
    "### Operaciones de Álgebra Lineal\n",
    "\n",
    "El álgebra lineal es una rama de las matemáticas que se ocupa de los vectores, matrices y las operaciones sobre ellos. NumPy proporciona funciones para realizar operaciones de álgebra lineal de manera eficiente.\n",
    "\n",
    "#### Producto Punto\n",
    "\n",
    "El producto punto es una operación entre dos vectores que da como resultado un solo número."
   ]
  },
  {
   "cell_type": "code",
   "execution_count": null,
   "metadata": {},
   "outputs": [],
   "source": [
    "# Crear dos vectores\n",
    "vector1 = np.array([1, 2, 3])\n",
    "vector2 = np.array([4, 5, 6])\n",
    "\n",
    "# Calcular el producto punto\n",
    "producto_punto = np.dot(vector1, vector2)\n",
    "print(\"Producto punto:\", producto_punto)"
   ]
  },
  {
   "cell_type": "markdown",
   "metadata": {},
   "source": [
    "#### Multiplicación de Matrices\n",
    "\n",
    "La multiplicación de matrices es una operación fundamental en álgebra lineal."
   ]
  },
  {
   "cell_type": "code",
   "execution_count": null,
   "metadata": {},
   "outputs": [],
   "source": [
    "# Crear dos matrices\n",
    "matriz1 = np.array([[1, 2], [3, 4]])\n",
    "matriz2 = np.array([[5, 6], [7, 8]])\n",
    "\n",
    "# Calcular la multiplicación de matrices\n",
    "multiplicacion_matrices = np.matmul(matriz1, matriz2)\n",
    "print(\"Multiplicación de matrices:\\n\", multiplicacion_matrices)"
   ]
  },
  {
   "cell_type": "code",
   "execution_count": null,
   "metadata": {},
   "outputs": [],
   "source": [
    "np.dot(matriz1, matriz2)"
   ]
  },
  {
   "cell_type": "code",
   "execution_count": null,
   "metadata": {},
   "outputs": [],
   "source": [
    "matriz1 @ matriz2"
   ]
  },
  {
   "cell_type": "markdown",
   "metadata": {},
   "source": [
    "#### Determinante de una Matriz\n",
    "\n",
    "El determinante es un valor que puede ser calculado a partir de una matriz cuadrada."
   ]
  },
  {
   "cell_type": "code",
   "execution_count": null,
   "metadata": {},
   "outputs": [],
   "source": [
    "# Crear una matriz cuadrada\n",
    "matriz = np.array([[1, 2], [3, 4]])\n",
    "\n",
    "# Calcular el determinante\n",
    "determinante = np.linalg.det(matriz)\n",
    "print(\"Determinante de la matriz:\", determinante)"
   ]
  },
  {
   "cell_type": "markdown",
   "metadata": {},
   "source": [
    "### Uso de Funciones Universales (ufunc)\n",
    "\n",
    "Las funciones universales (ufunc) en NumPy son funciones optimizadas que se aplican elemento por elemento a los arrays. Estas funciones están implementadas en C, lo que las hace extremadamente rápidas y eficientes. NumPy proporciona una amplia gama de ufunc para realizar operaciones matemáticas, lógicas y estadísticas.\n",
    "\n",
    "#### Ejemplos de ufunc\n",
    "\n",
    "Podemos usar ufunc para realizar operaciones aritméticas, trigonométricas, exponenciales, entre otras.\n",
    "\n",
    "#### Suma Element-wise\n",
    "\n",
    "Podemos sumar dos arrays de manera eficiente usando la ufunc `np.add`."
   ]
  },
  {
   "cell_type": "code",
   "execution_count": null,
   "metadata": {},
   "outputs": [],
   "source": [
    "# Crear dos arrays de ejemplo\n",
    "array1 = np.array([1, 2, 3])\n",
    "array2 = np.array([4, 5, 6])\n",
    "\n",
    "# Realizar la suma elemento por elemento de los dos arrays\n",
    "suma_elemento_por_elemento = np.add(array1, array2)\n",
    "print(\"Suma elemento por elemento de los arrays:\", suma_elemento_por_elemento)"
   ]
  },
  {
   "cell_type": "markdown",
   "metadata": {},
   "source": [
    "#### Multiplicación Element-wise\n",
    "\n",
    "Podemos multiplicar dos arrays de manera eficiente usando la ufunc `np.multiply`."
   ]
  },
  {
   "cell_type": "code",
   "execution_count": null,
   "metadata": {},
   "outputs": [],
   "source": [
    "# Crear dos arrays de ejemplo\n",
    "array1 = np.array([1, 2, 3])\n",
    "array2 = np.array([4, 5, 6])\n",
    "\n",
    "# Multiplicación elemento por elemento usando np.multiply\n",
    "multiplicacion = np.multiply(array1, array2)\n",
    "print(\"Multiplicación elemento por elemento de los arrays:\", multiplicacion)"
   ]
  },
  {
   "cell_type": "markdown",
   "metadata": {},
   "source": [
    "#### Aplicación de Funciones Personalizadas\n",
    "\n",
    "Además de las ufunc incorporadas, podemos aplicar funciones personalizadas a los arrays utilizando la función `np.vectorize`. Esto permite aplicar una función definida por el usuario a cada elemento de un array de manera eficiente.\n",
    "\n",
    "##### Ejemplo de Función Personalizada\n",
    "\n",
    "Definimos una función personalizada y la aplicamos a un array utilizando `np.vectorize`."
   ]
  },
  {
   "cell_type": "code",
   "execution_count": null,
   "metadata": {},
   "outputs": [],
   "source": [
    "# Definir una función personalizada\n",
    "def cuadrado(x):\n",
    "    return x ** 2\n",
    "\n",
    "# Crear un array de ejemplo\n",
    "array = np.array([1, 2, 3, 4, 5])\n",
    "\n",
    "# Aplicar la función personalizada usando np.vectorize\n",
    "vectorized_func = np.vectorize(cuadrado)\n",
    "resultado = vectorized_func(array)\n",
    "print(\"Aplicación de función personalizada (cuadrado):\", resultado)"
   ]
  },
  {
   "cell_type": "markdown",
   "metadata": {},
   "source": [
    "## Integración con Otras Bibliotecas\n",
    "\n",
    "NumPy se integra perfectamente con otras bibliotecas populares en el ecosistema de Python para análisis de datos y visualización, como Pandas y Matplotlib. Esta integración permite una manipulación y análisis de datos más eficiente y una visualización más efectiva.\n",
    "\n",
    "### Uso de NumPy con Pandas\n",
    "\n",
    "Pandas es una biblioteca poderosa para la manipulación y el análisis de datos que se basa en NumPy. Utiliza arrays de NumPy internamente para almacenar datos en sus estructuras de datos, como DataFrames y Series.\n",
    "\n",
    "#### Creación de un DataFrame a partir de un Array de NumPy\n",
    "\n",
    "Podemos crear un DataFrame de Pandas directamente a partir de un array de NumPy."
   ]
  },
  {
   "cell_type": "code",
   "execution_count": null,
   "metadata": {},
   "outputs": [],
   "source": [
    "import numpy as np\n",
    "import pandas as pd\n",
    "\n",
    "# Crear un array de NumPy\n",
    "data = np.array([[1, 2, 3], [4, 5, 6], [7, 8, 9]])\n",
    "\n",
    "# Crear un DataFrame de Pandas a partir del array\n",
    "df = pd.DataFrame(data, columns=['A', 'B', 'C'])\n",
    "print(\"DataFrame creado a partir de un array de NumPy:\\n\")\n",
    "df"
   ]
  },
  {
   "cell_type": "markdown",
   "metadata": {},
   "source": [
    "#### Uso de Funciones de NumPy en DataFrames de Pandas\n",
    "\n",
    "Podemos aplicar funciones de NumPy a las columnas de un DataFrame de Pandas."
   ]
  },
  {
   "cell_type": "code",
   "execution_count": null,
   "metadata": {},
   "outputs": [],
   "source": [
    "# Crear un DataFrame de ejemplo\n",
    "df = pd.DataFrame({'A': [1, 2, 3], 'B': [4, 5, 6], 'C': [7, 8, 9]})\n",
    "df"
   ]
  },
  {
   "cell_type": "code",
   "execution_count": null,
   "metadata": {},
   "outputs": [],
   "source": [
    "# Aplicar una función de NumPy a una columna\n",
    "df['A_sqrt'] = np.sqrt(df['A'])\n",
    "print(\"DataFrame con la raíz cuadrada de la columna A:\\n\", df)"
   ]
  },
  {
   "cell_type": "markdown",
   "metadata": {},
   "source": [
    "### Uso de NumPy con Matplotlib para Visualización\n",
    "\n",
    "Matplotlib es una biblioteca de visualización que se utiliza ampliamente para crear gráficos y visualizaciones en Python. NumPy se integra bien con Matplotlib, permitiendo la visualización de datos almacenados en arrays de NumPy.\n",
    "\n",
    "#### Gráfico de Línea\n",
    "\n",
    "Podemos crear un gráfico de línea utilizando datos almacenados en arrays de NumPy."
   ]
  },
  {
   "cell_type": "code",
   "execution_count": null,
   "metadata": {},
   "outputs": [],
   "source": [
    "import numpy as np\n",
    "import matplotlib.pyplot as plt\n",
    "\n",
    "# Crear un array de datos\n",
    "x = np.linspace(0, 10, 100)\n",
    "y = np.sin(x)\n",
    "\n",
    "# Crear un gráfico de línea\n",
    "plt.plot(x, y)\n",
    "plt.title('Gráfico de Línea')\n",
    "plt.xlabel('x')\n",
    "plt.ylabel('sin(x)')\n",
    "plt.show()"
   ]
  },
  {
   "cell_type": "markdown",
   "metadata": {},
   "source": [
    "## Conclusión\n",
    "\n",
    "### Resumen de lo Aprendido\n",
    "\n",
    "En esta libreta, hemos explorado diversas funcionalidades de NumPy, una biblioteca fundamental para la computación científica en Python. Hemos cubierto una amplia gama de temas, desde conceptos básicos hasta operaciones avanzadas, incluyendo:\n",
    "\n",
    "- **Introducción a NumPy**: Qué es NumPy y su importancia en la computación científica.\n",
    "- **Arrays de NumPy**: Creación, tipos y propiedades de los arrays.\n",
    "- **Operaciones Básicas con Arrays**: Acceso a elementos, slicing y modificación de arrays.\n",
    "- **Filtrado y Selección Condicional**: Uso de máscaras booleanas y filtrado con condiciones.\n",
    "- **Funciones Matemáticas y Estadísticas**: Aplicación de funciones matemáticas y estadísticas en arrays.\n",
    "- **Manipulación de Arrays**: Redimensionamiento, transposición, concatenación y apilamiento de arrays.\n",
    "- **Operaciones Avanzadas**: Álgebra lineal.\n",
    "- **Cálculos Numéricos Eficientes**: Uso de funciones universales (ufunc) y aplicación de funciones personalizadas.\n",
    "- **Integración con Otras Bibliotecas**: Uso de NumPy con Pandas y Matplotlib para análisis y visualización de datos.\n",
    "\n",
    "### Importancia de NumPy en el Análisis de Datos\n",
    "\n",
    "NumPy es una herramienta esencial para cualquier científico de datos, analista de datos o desarrollador que trabaje con datos numéricos y matemáticos en Python. Su capacidad para manejar grandes volúmenes de datos y realizar operaciones numéricas de manera eficiente lo hace invaluable en el análisis de datos. Algunas de las razones por las que NumPy es crucial en el análisis de datos incluyen:\n",
    "\n",
    "- **Eficiencia y Velocidad**: Las operaciones en arrays de NumPy son mucho más rápidas que las operaciones equivalentes en listas de Python, gracias a su implementación en C.\n",
    "- **Versatilidad**: NumPy ofrece una amplia gama de funciones matemáticas, estadísticas y de álgebra lineal, lo que permite realizar cálculos complejos con facilidad.\n",
    "- **Compatibilidad**: NumPy se integra perfectamente con otras bibliotecas populares como Pandas, Matplotlib y Scikit-learn, facilitando el análisis y la visualización de datos.\n",
    "- **Manipulación de Datos**: Las funcionalidades de manipulación de arrays permiten reorganizar, filtrar y transformar datos de manera eficiente.\n",
    "- **Base para Otras Bibliotecas**: Muchas otras bibliotecas para el análisis de datos y aprendizaje automático en Python están construidas sobre NumPy, lo que lo convierte en un componente fundamental del ecosistema científico de Python.\n",
    "\n",
    "NumPy proporciona las herramientas necesarias para realizar análisis de datos de manera eficiente y efectiva, convirtiéndose en una pieza clave en el conjunto de herramientas de cualquier profesional de datos."
   ]
  }
 ],
 "metadata": {
  "kernelspec": {
   "display_name": "base",
   "language": "python",
   "name": "python3"
  },
  "language_info": {
   "codemirror_mode": {
    "name": "ipython",
    "version": 3
   },
   "file_extension": ".py",
   "mimetype": "text/x-python",
   "name": "python",
   "nbconvert_exporter": "python",
   "pygments_lexer": "ipython3",
   "version": "3.10.13"
  }
 },
 "nbformat": 4,
 "nbformat_minor": 2
}
