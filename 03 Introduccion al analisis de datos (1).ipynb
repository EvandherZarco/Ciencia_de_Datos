{
 "cells": [
  {
   "cell_type": "markdown",
   "metadata": {},
   "source": [
    "# Análisis Exploratorio de Datos del Titanic\n",
    "\n",
    "En esta libreta, realizaremos un análisis exploratorio de datos utilizando el famoso conjunto de datos del Titanic. Exploraremos cómo cargar, limpiar y visualizar los datos para obtener información valiosa.\n",
    "\n",
    "## Importación de Bibliotecas\n",
    "\n",
    "Primero, importemos las bibliotecas necesarias."
   ]
  },
  {
   "cell_type": "code",
   "execution_count": null,
   "metadata": {},
   "outputs": [],
   "source": [
    "import pandas as pd\n",
    "import numpy as np\n",
    "import matplotlib.pyplot as plt\n",
    "import seaborn as sns\n",
    "import warnings\n",
    "\n",
    "# Configuración para ignorar warnings\n",
    "warnings.filterwarnings('ignore')\n",
    "\n",
    "# Configuración de gráficos en línea\n",
    "%matplotlib inline\n",
    "# %matplotlib notebook\n",
    "\n",
    "# Configuración de estilo de gráficos\n",
    "sns.set_theme(style=\"whitegrid\")"
   ]
  },
  {
   "cell_type": "markdown",
   "metadata": {},
   "source": [
    "## Carga de Datos\n",
    "\n",
    "Carguemos el conjunto de datos del Titanic proporcionado por `seaborn`."
   ]
  },
  {
   "cell_type": "code",
   "execution_count": null,
   "metadata": {},
   "outputs": [],
   "source": [
    "# Cargar el conjunto de datos\n",
    "df = sns.load_dataset('titanic') # DataFrame\n",
    "\n",
    "# Mostrar las primeras filas del conjunto de datos\n",
    "df.head()"
   ]
  },
  {
   "cell_type": "markdown",
   "metadata": {},
   "source": [
    "## Descripción de las Columnas del Conjunto de Datos Titanic\n",
    "\n",
    "El conjunto de datos del Titanic contiene información sobre los pasajeros del famoso barco que se hundió en 1912. A continuación se describen las columnas de este conjunto de datos:\n",
    "\n",
    "- **survived**: Indica si el pasajero sobrevivió (1) o no (0).\n",
    "- **pclass**: Clase del billete del pasajero, donde 1 es la primera clase, 2 es la segunda clase y 3 es la tercera clase.\n",
    "- **sex**: Género del pasajero (`male` o `female`).\n",
    "- **age**: Edad del pasajero.\n",
    "- **sibsp**: Número de hermanos/esposos a bordo del Titanic.\n",
    "- **parch**: Número de padres/hijos a bordo del Titanic.\n",
    "- **fare**: Tarifa pagada por el billete del pasajero.\n",
    "- **embarked**: Puerto de embarque del pasajero, donde `C` es Cherburgo, `Q` es Queenstown y `S` es Southampton.\n",
    "- **class**: Clase del billete del pasajero (como categoría), similar a `pclass`.\n",
    "- **who**: Descripción simplificada del pasajero (`man`, `woman`, `child`).\n",
    "- **adult_male**: Indica si el pasajero es un hombre adulto (`True` o `False`).\n",
    "- **deck**: Cubierta en la que se encontraba el camarote del pasajero (identificada por una letra).\n",
    "- **embark_town**: Nombre del puerto de embarque (`Cherbourg`, `Queenstown`, `Southampton`).\n",
    "- **alive**: Indica si el pasajero sobrevivió (`yes`) o no (`no`).\n",
    "- **alone**: Indica si el pasajero estaba solo (`True`) o no (`False`).\n",
    "\n",
    "### Notas Importantes:\n",
    "\n",
    "- **survived** y **alive**: Ambas columnas indican la supervivencia del pasajero, pero `survived` es numérica mientras que `alive` es categórica.\n",
    "- **pclass** y **class**: Ambas columnas indican la clase del billete, pero `pclass` es numérica mientras que `class` es categórica.\n",
    "- **embarked** y **embark_town**: Ambas columnas indican el puerto de embarque, pero `embarked` usa abreviaturas (`C`, `Q`, `S`) mientras que `embark_town` usa nombres completos (`Cherbourg`, `Queenstown`, `Southampton`).\n",
    "\n",
    "Este conjunto de datos es ampliamente utilizado para practicar técnicas de análisis de datos y aprendizaje automático debido a su riqueza y diversidad de información."
   ]
  },
  {
   "cell_type": "markdown",
   "metadata": {},
   "source": [
    "## Exploración de Datos\n",
    "\n",
    "Antes de comenzar con la limpieza y el análisis de los datos, es importante entender la estructura del conjunto de datos. Utilizaremos algunas funciones de Pandas para obtener una visión general de nuestros datos."
   ]
  },
  {
   "cell_type": "code",
   "execution_count": null,
   "metadata": {},
   "outputs": [],
   "source": [
    "# Describir las estadísticas básicas\n",
    "print(\"Estadísticas básicas del conjunto de datos:\")\n",
    "df.describe()"
   ]
  },
  {
   "cell_type": "code",
   "execution_count": null,
   "metadata": {},
   "outputs": [],
   "source": [
    "# Información general del DataFrame\n",
    "print(\"\\nInformación general del DataFrame:\")\n",
    "df.info()"
   ]
  },
  {
   "cell_type": "code",
   "execution_count": null,
   "metadata": {},
   "outputs": [],
   "source": [
    "# Verifica que celdas no tienen un valor válido\n",
    "df.isnull().head()"
   ]
  },
  {
   "cell_type": "code",
   "execution_count": null,
   "metadata": {},
   "outputs": [],
   "source": [
    "# Verificar valores nulos\n",
    "print(\"\\nConteo de valores nulos en cada columna:\")\n",
    "df.isnull().sum()"
   ]
  },
  {
   "cell_type": "markdown",
   "metadata": {},
   "source": [
    "## Limpieza de Datos\n",
    "\n",
    "Llenemos los valores nulos en las columnas 'age' y 'embarked'."
   ]
  },
  {
   "cell_type": "code",
   "execution_count": null,
   "metadata": {},
   "outputs": [],
   "source": [
    "# Mostrar elementos de una columna\n",
    "df['age']"
   ]
  },
  {
   "cell_type": "code",
   "execution_count": null,
   "metadata": {},
   "outputs": [],
   "source": [
    "# Calcular la mediana de los valores de una columna\n",
    "df['age'].median()"
   ]
  },
  {
   "cell_type": "code",
   "execution_count": null,
   "metadata": {},
   "outputs": [],
   "source": [
    "df['embarked'].mode()"
   ]
  },
  {
   "cell_type": "code",
   "execution_count": null,
   "metadata": {},
   "outputs": [],
   "source": [
    "# Llenar valores nulos en la columna 'age' con la mediana\n",
    "df['age'] = df['age'].fillna(df['age'].median())\n",
    "\n",
    "# Llenar valores nulos en la columna 'embarked' con el modo\n",
    "df['embarked'] = df['embarked'].fillna(df['embarked'].mode()[0])\n",
    "\n",
    "# Eliminar filas con valores nulos restantes\n",
    "df = df.dropna()\n",
    "\n",
    "# Verificar nuevamente valores nulos\n",
    "df.isnull().sum()"
   ]
  },
  {
   "cell_type": "code",
   "execution_count": null,
   "metadata": {},
   "outputs": [],
   "source": [
    "df.info()"
   ]
  },
  {
   "cell_type": "code",
   "execution_count": null,
   "metadata": {},
   "outputs": [],
   "source": [
    "# Número de filas en el DataFrame\n",
    "len(df)"
   ]
  },
  {
   "cell_type": "code",
   "execution_count": null,
   "metadata": {},
   "outputs": [],
   "source": [
    "# Asegurarse de que no haya valores infinitos en la columna 'age'\n",
    "df['age'] = df['age'].replace([np.inf, -np.inf], np.nan)\n",
    "\n",
    "# Verificar si hay valores nulos resultantes de la eliminación de infinitos\n",
    "print(\"\\nConteo de valores nulos después de reemplazar infinitos:\")\n",
    "df.isnull().sum()"
   ]
  },
  {
   "cell_type": "markdown",
   "metadata": {},
   "source": [
    "## Análisis Exploratorio de Datos (EDA)\n",
    "\n",
    "Realicemos algunas visualizaciones para entender mejor los datos."
   ]
  },
  {
   "cell_type": "code",
   "execution_count": null,
   "metadata": {},
   "outputs": [],
   "source": [
    "# Distribución de edades\n",
    "plt.figure(figsize=(10, 6))\n",
    "sns.histplot(df['age'], bins=30, kde=True)\n",
    "plt.title('Distribución de Edades')\n",
    "plt.xlabel('Edad')\n",
    "plt.ylabel('Frecuencia')\n",
    "plt.show()"
   ]
  },
  {
   "cell_type": "code",
   "execution_count": null,
   "metadata": {},
   "outputs": [],
   "source": [
    "# Distribución de supervivientes\n",
    "plt.figure(figsize=(10, 6))\n",
    "sns.countplot(x='survived', data=df)\n",
    "plt.title('Distribución de Supervivientes')\n",
    "plt.xlabel('Sobrevivió (1=Sí, 0=No)')\n",
    "plt.ylabel('Frecuencia')\n",
    "plt.show()"
   ]
  },
  {
   "cell_type": "code",
   "execution_count": null,
   "metadata": {},
   "outputs": [],
   "source": [
    "# Relación entre edad y tarifa\n",
    "plt.figure(figsize=(10, 6))\n",
    "sns.scatterplot(x='age', y='fare', data=df, hue='survived')\n",
    "plt.title('Relación entre Edad y Tarifa')\n",
    "plt.xlabel('Edad')\n",
    "plt.ylabel('Tarifa')\n",
    "plt.legend(title='Sobrevivió')\n",
    "plt.show()"
   ]
  },
  {
   "cell_type": "code",
   "execution_count": null,
   "metadata": {},
   "outputs": [],
   "source": [
    "# Relación entre clase y supervivencia\n",
    "plt.figure(figsize=(10, 6))\n",
    "sns.countplot(x='class', hue='survived', data=df)\n",
    "plt.title('Supervivencia por Clase')\n",
    "plt.xlabel('Clase')\n",
    "plt.ylabel('Frecuencia')\n",
    "plt.legend(title='Sobrevivió')\n",
    "plt.show()"
   ]
  },
  {
   "cell_type": "code",
   "execution_count": null,
   "metadata": {},
   "outputs": [],
   "source": [
    "# Supervivencia por género\n",
    "plt.figure(figsize=(10, 6))\n",
    "sns.countplot(x='sex', hue='survived', data=df)\n",
    "plt.title('Supervivencia por Género')\n",
    "plt.xlabel('Género')\n",
    "plt.ylabel('Frecuencia')\n",
    "plt.legend(title='Sobrevivió')\n",
    "plt.show()"
   ]
  },
  {
   "cell_type": "code",
   "execution_count": null,
   "metadata": {},
   "outputs": [],
   "source": [
    "# Relación entre clase y edad\n",
    "plt.figure(figsize=(10, 6))\n",
    "sns.boxplot(x='pclass', y='age', data=df)\n",
    "plt.title('Relación entre Clase y Edad')\n",
    "plt.xlabel('Clase')\n",
    "plt.ylabel('Edad')\n",
    "plt.show()"
   ]
  }
 ],
 "metadata": {
  "kernelspec": {
   "display_name": "base",
   "language": "python",
   "name": "python3"
  },
  "language_info": {
   "codemirror_mode": {
    "name": "ipython",
    "version": 3
   },
   "file_extension": ".py",
   "mimetype": "text/x-python",
   "name": "python",
   "nbconvert_exporter": "python",
   "pygments_lexer": "ipython3",
   "version": "3.10.13"
  }
 },
 "nbformat": 4,
 "nbformat_minor": 2
}
