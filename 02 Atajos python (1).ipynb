{
 "cells": [
  {
   "cell_type": "markdown",
   "metadata": {},
   "source": [
    "# Atajos Pythonicos\n",
    "\n",
    "En esta libreta, exploraremos varios atajos y técnicas avanzadas para escribir código Python de manera más eficiente y elegante. Estos atajos, conocidos como \"pythonicos\", permiten aprovechar al máximo las características del lenguaje, mejorando la legibilidad y reduciendo la complejidad del código. Cada sección incluirá ejemplos comparativos, mostrando primero una solución convencional y luego una solución más pythonica."
   ]
  },
  {
   "cell_type": "markdown",
   "metadata": {},
   "source": [
    "### Asignación Múltiple en Python\n",
    "\n",
    "En Python, es posible asignar múltiples variables en una sola línea de código. Esta técnica se llama asignación múltiple y mejora la legibilidad y concisión del código. Aquí tienes un ejemplo:"
   ]
  },
  {
   "cell_type": "code",
   "execution_count": null,
   "metadata": {},
   "outputs": [],
   "source": [
    "a, b, c = 10, 20, 30\n",
    "print(a, b, c)"
   ]
  },
  {
   "cell_type": "markdown",
   "metadata": {},
   "source": [
    "En una sola línea, hemos asignado los valores 10, 20 y 30 a las variables `a`, `b` y `c`, respectivamente.\n",
    "\n",
    "#### Versión Larga del Código Equivalente\n",
    "Si no se usara la asignación múltiple, el código equivalente sería:"
   ]
  },
  {
   "cell_type": "code",
   "execution_count": null,
   "metadata": {},
   "outputs": [],
   "source": [
    "a = 10\n",
    "b = 20\n",
    "c = 30\n",
    "print(a, b, c)"
   ]
  },
  {
   "cell_type": "markdown",
   "metadata": {},
   "source": [
    "### Uso de `sep` en `print`\n",
    "\n",
    "En Python, se pueden imprimir múltiples variables en diferentes líneas utilizando el parámetro `sep` de la función `print`. Esto permite especificar un separador personalizado entre las variables.\n",
    "\n",
    "Código con la versión larga:"
   ]
  },
  {
   "cell_type": "code",
   "execution_count": null,
   "metadata": {},
   "outputs": [],
   "source": [
    "a, b, c = 10, 20, 30\n",
    "print(str(a) + '\\n' + str(b) + '\\n' + str(c))"
   ]
  },
  {
   "cell_type": "markdown",
   "metadata": {},
   "source": [
    "Versión corta utilizando `sep`:"
   ]
  },
  {
   "cell_type": "code",
   "execution_count": null,
   "metadata": {},
   "outputs": [],
   "source": [
    "a, b, c = 10, 20, 30\n",
    "print(a, b, c, sep='\\n')"
   ]
  },
  {
   "cell_type": "markdown",
   "metadata": {},
   "source": [
    "### Repetición de Cadenas en Python\n",
    "\n",
    "En Python, es posible repetir una cadena de caracteres múltiples veces utilizando el operador de multiplicación (`*`). Esta técnica permite simplificar el código y mejorar su legibilidad."
   ]
  },
  {
   "cell_type": "code",
   "execution_count": null,
   "metadata": {},
   "outputs": [],
   "source": [
    "a = 'ABC'\n",
    "repeticiones = 10\n",
    "for i in range(repeticiones):\n",
    "    print(a, end='')\n",
    "# Resultado: ABCABCABCABC...ABC"
   ]
  },
  {
   "cell_type": "markdown",
   "metadata": {},
   "source": [
    "### Versión Simplificada\n",
    "\n",
    "Utilizando el operador de multiplicación para repetir la cadena."
   ]
  },
  {
   "cell_type": "code",
   "execution_count": null,
   "metadata": {},
   "outputs": [],
   "source": [
    "a = 'ABC'\n",
    "repeticiones = 10\n",
    "print(a * repeticiones)\n",
    "# Resultado: ABCABCABCABC...ABC"
   ]
  },
  {
   "cell_type": "markdown",
   "metadata": {},
   "source": [
    "### Uso de `enumerate` en Python\n",
    "\n",
    "En Python, se puede utilizar `enumerate` para obtener tanto el índice como el valor de los elementos en una lista. Esto simplifica el código y mejora su legibilidad."
   ]
  },
  {
   "cell_type": "code",
   "execution_count": null,
   "metadata": {},
   "outputs": [],
   "source": [
    "lista_letras = ['a', 'b', 'c', 'd', 'e', 'f']\n",
    "indice = 0\n",
    "for letra in lista_letras:\n",
    "    print(f'indice={indice} , valor={letra}')\n",
    "    indice += 1 #indice=indice+1\n",
    "\n",
    "# Resultado:\n",
    "# indice=0 , valor=a\n",
    "# indice=1 , valor=b\n",
    "# ...\n",
    "# indice=5 , valor=f"
   ]
  },
  {
   "cell_type": "markdown",
   "metadata": {},
   "source": [
    "### Versión Simplificada\n",
    "\n",
    "Utilizando `enumerate` para obtener el índice y el valor de los elementos en la lista."
   ]
  },
  {
   "cell_type": "code",
   "execution_count": null,
   "metadata": {},
   "outputs": [],
   "source": [
    "lista_letras = ['a', 'b', 'c', 'd', 'e', 'f']\n",
    "for indice, letra in enumerate(lista_letras):\n",
    "    print(f'indice={indice} , valor={letra}')\n",
    "\n",
    "# Resultado:\n",
    "# indice=0 , valor=a\n",
    "# indice=1 , valor=b\n",
    "# ...\n",
    "# indice=5 , valor=f"
   ]
  },
  {
   "cell_type": "markdown",
   "metadata": {},
   "source": [
    "### Uso de `join` en Python\n",
    "\n",
    "En Python, se puede utilizar el método `join` para concatenar todos los elementos de una lista en una sola cadena de caracteres. Esto simplifica el código y mejora su eficiencia."
   ]
  },
  {
   "cell_type": "code",
   "execution_count": null,
   "metadata": {},
   "outputs": [],
   "source": [
    "lista_letras = ['a', 'b', 'c', 'd', 'e', 'f']\n",
    "texto = ''\n",
    "for letra in lista_letras:\n",
    "    texto += letra # texto = texto + letra\n",
    "print(texto)\n",
    "# Resultado: abcdef"
   ]
  },
  {
   "cell_type": "markdown",
   "metadata": {},
   "source": [
    "### Versión Simplificada\n",
    "\n",
    "Utilizando el método `join` para concatenar los elementos de la lista en una sola cadena."
   ]
  },
  {
   "cell_type": "code",
   "execution_count": null,
   "metadata": {},
   "outputs": [],
   "source": [
    "lista_letras = ['a', 'b', 'c', 'd', 'e', 'f']\n",
    "texto = ''.join(lista_letras)\n",
    "print(texto)\n",
    "# Resultado: abcdef"
   ]
  },
  {
   "cell_type": "markdown",
   "metadata": {},
   "source": [
    "### Uso de `set` para Eliminar Elementos Duplicados en Python\n",
    "\n",
    "En Python, se puede utilizar la estructura de datos `set` para eliminar elementos duplicados de una lista. Esto simplifica el código y mejora su eficiencia."
   ]
  },
  {
   "cell_type": "code",
   "execution_count": null,
   "metadata": {},
   "outputs": [],
   "source": [
    "lista_letras = ['a', 'a', 'b', 'c', 'd', 'e', 'a', 'f', 'b', 'c']\n",
    "lista_final = []\n",
    "for letra in lista_letras:\n",
    "    if letra not in lista_final:\n",
    "        lista_final.append(letra)\n",
    "print(lista_final)\n",
    "# Resultado: lista sin elementos repetidos"
   ]
  },
  {
   "cell_type": "markdown",
   "metadata": {},
   "source": [
    "### Versión Simplificada\n",
    "\n",
    "Utilizando `set` para eliminar elementos duplicados de la lista."
   ]
  },
  {
   "cell_type": "code",
   "execution_count": null,
   "metadata": {},
   "outputs": [],
   "source": [
    "lista_letras = ['a', 'a', 'b', 'c', 'd', 'e', 'a', 'f', 'b', 'c']\n",
    "print(list(set(lista_letras)))\n",
    "# Resultado: lista sin elementos repetidos"
   ]
  },
  {
   "cell_type": "markdown",
   "metadata": {},
   "source": [
    "### Uso de `in` para Buscar Elementos en una Lista\n",
    "\n",
    "En Python, se puede utilizar el operador `in` para verificar si un elemento está presente en una lista. Esto simplifica el código y mejora su legibilidad."
   ]
  },
  {
   "cell_type": "code",
   "execution_count": null,
   "metadata": {},
   "outputs": [],
   "source": [
    "lista_letras = ['a', 'b', 'c', 'd', 'e', 'f']\n",
    "letra_a_buscar = 'z'\n",
    "encontrado = False\n",
    "for letra in lista_letras:\n",
    "    if letra == letra_a_buscar:\n",
    "        encontrado = True\n",
    "        break\n",
    "print(encontrado)\n",
    "# Resultado: True o False"
   ]
  },
  {
   "cell_type": "markdown",
   "metadata": {},
   "source": [
    "### Versión Simplificada\n",
    "\n",
    "Utilizando el operador `in` para verificar si el elemento está en la lista."
   ]
  },
  {
   "cell_type": "code",
   "execution_count": null,
   "metadata": {},
   "outputs": [],
   "source": [
    "lista_letras = ['a', 'b', 'c', 'd', 'e', 'f']\n",
    "letra_a_buscar = 'z'\n",
    "print(letra_a_buscar in lista_letras)\n",
    "# Resultado: True o False"
   ]
  },
  {
   "cell_type": "markdown",
   "metadata": {},
   "source": [
    "### Uso de `zip` para Iterar sobre Múltiples Listas en Python\n",
    "\n",
    "En Python, se puede utilizar la función `zip` para iterar simultáneamente sobre múltiples listas. Esto simplifica el código y mejora su legibilidad al evitar la necesidad de utilizar índices manualmente.\n",
    "\n",
    "Código convencional utilizando índices:"
   ]
  },
  {
   "cell_type": "code",
   "execution_count": null,
   "metadata": {},
   "outputs": [],
   "source": [
    "lista1 = [1, 2, 3, 4, 5]\n",
    "lista2 = [10, 20, 30, 40, 50]\n",
    "for indice in range(len(lista1)):\n",
    "    print(f'valor1={lista1[indice]} , valor2={lista2[indice]}')\n",
    "\n",
    "# Resultado:\n",
    "# valor1=1 , valor2=10\n",
    "# valor1=2 , valor2=20\n",
    "# ...\n",
    "# valor1=5 , valor2=50"
   ]
  },
  {
   "cell_type": "markdown",
   "metadata": {},
   "source": [
    "### Versión Simplificada\n",
    "\n",
    "Utilizando `zip` para iterar sobre las dos listas simultáneamente."
   ]
  },
  {
   "cell_type": "code",
   "execution_count": null,
   "metadata": {},
   "outputs": [],
   "source": [
    "lista1 = [1, 2, 3, 4, 5]\n",
    "lista2 = [10, 20, 30, 40, 50]\n",
    "for i, j in zip(lista1, lista2):\n",
    "    print(f'valor1={i} , valor2={j}')\n",
    "\n",
    "# Resultado:\n",
    "# valor1=1 , valor2=10\n",
    "# valor1=2 , valor2=20\n",
    "# ...\n",
    "# valor1=5 , valor2=50"
   ]
  },
  {
   "cell_type": "markdown",
   "metadata": {},
   "source": [
    "### Uso de Slicing para Invertir Listas en Python\n",
    "\n",
    "En Python, se puede utilizar el slicing para invertir una lista de manera concisa y eficiente. Esto simplifica el código al eliminar la necesidad de utilizar bucles manuales.\n",
    "\n",
    "Código convencional utilizando un bucle:"
   ]
  },
  {
   "cell_type": "code",
   "execution_count": null,
   "metadata": {},
   "outputs": [],
   "source": [
    "lista1 = [1, 2, 3, 4, 5]\n",
    "lista_final = []\n",
    "for indice in range(len(lista1), 0, -1):\n",
    "    lista_final.append(lista1[indice-1])\n",
    "print(lista_final)\n",
    "# Resultado: [5, 4, 3, 2, 1]"
   ]
  },
  {
   "cell_type": "markdown",
   "metadata": {},
   "source": [
    "### Versión Simplificada\n",
    "\n",
    "Utilizando slicing para invertir la lista."
   ]
  },
  {
   "cell_type": "code",
   "execution_count": null,
   "metadata": {},
   "outputs": [],
   "source": [
    "lista1 = [1, 2, 3, 4, 5]\n",
    "lista_final = lista1[::-1] #Rebanado o Segmentacion de Listas\n",
    "print(lista_final)\n",
    "# Resultado: [5, 4, 3, 2, 1]"
   ]
  },
  {
   "cell_type": "markdown",
   "metadata": {},
   "source": [
    "### Uso de `count` para Contar Elementos en una Lista\n",
    "\n",
    "En Python, se puede utilizar el método `count` de una lista para contar el número de ocurrencias de un elemento específico. Esto simplifica el código y mejora su legibilidad al evitar el uso de bucles manuales.\n",
    "\n",
    "Código convencional utilizando un bucle:"
   ]
  },
  {
   "cell_type": "code",
   "execution_count": null,
   "metadata": {},
   "outputs": [],
   "source": [
    "lista_letras = ['a', 'a', 'b', 'c', 'd', 'e', 'a', 'f', 'b', 'c']\n",
    "letra_a_buscar = 'c'\n",
    "contador = 0\n",
    "for letra in lista_letras:\n",
    "    if letra == letra_a_buscar:\n",
    "        contador += 1\n",
    "print(contador)"
   ]
  },
  {
   "cell_type": "markdown",
   "metadata": {},
   "source": [
    "### Versión Simplificada\n",
    "\n",
    "Utilizando el método `count` para contar las ocurrencias de un elemento en la lista."
   ]
  },
  {
   "cell_type": "code",
   "execution_count": null,
   "metadata": {},
   "outputs": [],
   "source": [
    "lista_letras = ['a', 'a', 'b', 'c', 'd', 'e', 'a', 'f', 'b', 'c']\n",
    "letra_a_buscar = 'c'\n",
    "print(lista_letras.count(letra_a_buscar))"
   ]
  },
  {
   "cell_type": "markdown",
   "metadata": {},
   "source": [
    "### Uso de Slicing para Extraer Subcadenas en Python\n",
    "\n",
    "En Python, se puede utilizar slicing para extraer una subcadena específica de una cadena de caracteres. Esto simplifica el código y mejora su legibilidad al eliminar la necesidad de bucles manuales.\n",
    "\n",
    "Código convencional utilizando un bucle:"
   ]
  },
  {
   "cell_type": "code",
   "execution_count": null,
   "metadata": {},
   "outputs": [],
   "source": [
    "texto_entrada = 'ABCDEFGHIJK'\n",
    "indice_inicial = 5\n",
    "numero_letras = 3\n",
    "texto_salida = ''\n",
    "for i in range(numero_letras):\n",
    "    texto_salida += texto_entrada[indice_inicial + i]\n",
    "print(texto_salida)\n",
    "# Resultado: FGH"
   ]
  },
  {
   "cell_type": "markdown",
   "metadata": {},
   "source": [
    "### Versión Simplificada\n",
    "\n",
    "Utilizando slicing para extraer la subcadena de la cadena de entrada."
   ]
  },
  {
   "cell_type": "code",
   "execution_count": null,
   "metadata": {},
   "outputs": [],
   "source": [
    "texto_entrada = 'ABCDEFGHIJK'\n",
    "indice_inicial = 5\n",
    "numero_letras = 3\n",
    "texto_salida = texto_entrada[indice_inicial:indice_inicial + numero_letras]\n",
    "print(texto_salida)\n",
    "# Resultado: FGH"
   ]
  },
  {
   "cell_type": "markdown",
   "metadata": {},
   "source": [
    "### Uso de `pow` para Representar Números Grandes en Python\n",
    "\n",
    "En Python, se puede utilizar la función `pow` para representar números grandes de manera concisa y legible. Esto mejora la claridad del código y facilita la lectura.\n",
    "\n",
    "Código convencional asignando un número grande directamente:"
   ]
  },
  {
   "cell_type": "code",
   "execution_count": null,
   "metadata": {},
   "outputs": [],
   "source": [
    "numero = 100000000000000000000\n",
    "print(numero)\n",
    "# Resultado: 100000000000000000000"
   ]
  },
  {
   "cell_type": "markdown",
   "metadata": {},
   "source": [
    "### Versión Simplificada\n",
    "\n",
    "Utilizando la función `pow` para representar el número grande."
   ]
  },
  {
   "cell_type": "code",
   "execution_count": null,
   "metadata": {},
   "outputs": [],
   "source": [
    "numero = pow(10, 20)\n",
    "print(numero)\n",
    "# Resultado: 100000000000000000000"
   ]
  },
  {
   "cell_type": "markdown",
   "metadata": {},
   "source": [
    "### Uso de `swapcase` para Invertir Mayúsculas y Minúsculas en Python\n",
    "\n",
    "En Python, se puede utilizar el método `swapcase` para invertir las mayúsculas y minúsculas de los caracteres en una cadena. Esto simplifica el código y mejora su legibilidad al eliminar la necesidad de condiciones manuales.\n",
    "\n",
    "Código convencional utilizando condiciones:"
   ]
  },
  {
   "cell_type": "code",
   "execution_count": null,
   "metadata": {},
   "outputs": [],
   "source": [
    "texto = 'aBcdEFgHiJKlM'\n",
    "texto_salida = ''\n",
    "for letra in texto:\n",
    "    if letra.islower():\n",
    "        texto_salida += letra.upper()\n",
    "    elif letra.isupper():\n",
    "        texto_salida += letra.lower()\n",
    "    else:\n",
    "        texto_salida += letra\n",
    "print(texto_salida)\n",
    "# Resultado: AbCDefGhIjkLm"
   ]
  },
  {
   "cell_type": "markdown",
   "metadata": {},
   "source": [
    "### Versión Simplificada\n",
    "\n",
    "Utilizando el método `swapcase` para invertir las mayúsculas y minúsculas de los caracteres."
   ]
  },
  {
   "cell_type": "code",
   "execution_count": null,
   "metadata": {},
   "outputs": [],
   "source": [
    "texto = 'aBcdEFgHiJKlM'\n",
    "texto_salida = texto.swapcase()\n",
    "print(texto_salida)\n",
    "# Resultado: AbCDefGhIjkLm"
   ]
  },
  {
   "cell_type": "markdown",
   "metadata": {},
   "source": [
    "### Uso de `in` para Comparaciones Múltiples en Python\n",
    "\n",
    "En Python, se puede utilizar el operador `in` para simplificar comparaciones múltiples en una condición. Esto mejora la legibilidad del código al eliminar comparaciones redundantes.\n",
    "\n",
    "Código convencional utilizando múltiples condiciones:"
   ]
  },
  {
   "cell_type": "code",
   "execution_count": null,
   "metadata": {},
   "outputs": [],
   "source": [
    "a = 1\n",
    "if a == 1 or a == 2 or a == 3:\n",
    "    a += 1\n",
    "else:\n",
    "    a += 4\n",
    "print(a)\n",
    "# Resultado: 2"
   ]
  },
  {
   "cell_type": "markdown",
   "metadata": {},
   "source": [
    "### Versión Simplificada\n",
    "\n",
    "Utilizando el operador `in` para simplificar la condición."
   ]
  },
  {
   "cell_type": "code",
   "execution_count": null,
   "metadata": {},
   "outputs": [],
   "source": [
    "a = 1\n",
    "if a in (1, 2, 3):\n",
    "    a += 1\n",
    "else:\n",
    "    a += 4\n",
    "print(a)\n",
    "# Resultado: 2"
   ]
  },
  {
   "cell_type": "markdown",
   "metadata": {},
   "source": [
    "### Uso de `map` para Convertir Tipos en Python\n",
    "\n",
    "En Python, se puede utilizar la función `map` para aplicar una función a todos los elementos de una lista, simplificando el código y mejorando su legibilidad.\n",
    "\n",
    "Código convencional utilizando un bucle:"
   ]
  },
  {
   "cell_type": "code",
   "execution_count": null,
   "metadata": {},
   "outputs": [],
   "source": [
    "lista = ['1', '2', '3', '4', '5']\n",
    "lista_salida = []\n",
    "for letra in lista:\n",
    "    lista_salida.append(int(letra))\n",
    "print(lista_salida)\n",
    "# Resultado: [1, 2, 3, 4, 5]"
   ]
  },
  {
   "cell_type": "markdown",
   "metadata": {},
   "source": [
    "### Versión Simplificada\n",
    "\n",
    "Utilizando `map` para convertir los elementos de la lista a enteros."
   ]
  },
  {
   "cell_type": "code",
   "execution_count": null,
   "metadata": {},
   "outputs": [],
   "source": [
    "lista = ['1', '2', '3', '4', '5']\n",
    "lista_salida = list(map(int, lista))\n",
    "print(lista_salida)\n",
    "# Resultado: [1, 2, 3, 4, 5]"
   ]
  },
  {
   "cell_type": "markdown",
   "metadata": {},
   "source": [
    "### Uso de Asignación Múltiple para Intercambiar Valores en Python\n",
    "\n",
    "En Python, se puede utilizar la asignación múltiple para intercambiar los valores de dos variables de manera concisa y eficiente, eliminando la necesidad de una variable auxiliar.\n",
    "\n",
    "Código convencional utilizando una variable auxiliar:"
   ]
  },
  {
   "cell_type": "code",
   "execution_count": null,
   "metadata": {},
   "outputs": [],
   "source": [
    "a = '123'\n",
    "b = 'abc'\n",
    "\n",
    "aux = a\n",
    "a = b\n",
    "b = aux\n",
    "\n",
    "print(a, b)\n",
    "# Resultado: abc 123"
   ]
  },
  {
   "cell_type": "markdown",
   "metadata": {},
   "source": [
    "### Versión Simplificada\n",
    "\n",
    "Utilizando la asignación múltiple para intercambiar los valores."
   ]
  },
  {
   "cell_type": "code",
   "execution_count": null,
   "metadata": {},
   "outputs": [],
   "source": [
    "a = '123'\n",
    "b = 'abc'\n",
    "\n",
    "a, b = b, a\n",
    "\n",
    "print(a, b)\n",
    "# Resultado: abc 123"
   ]
  },
  {
   "cell_type": "markdown",
   "metadata": {},
   "source": [
    "### Conclusión\n",
    "\n",
    "En esta libreta, hemos explorado diversos atajos y técnicas pythonicas que permiten escribir código más conciso, legible y eficiente. Desde el uso de `enumerate` y `zip` para iterar sobre listas, hasta la utilización de `swapcase` y `count` para manipular cadenas y listas, estas prácticas demuestran el poder y la flexibilidad del lenguaje Python. Adoptar estas técnicas no solo mejora la calidad del código, sino que también facilita su mantenimiento y comprensión."
   ]
  }
 ],
 "metadata": {
  "kernelspec": {
   "display_name": "base",
   "language": "python",
   "name": "python3"
  },
  "language_info": {
   "codemirror_mode": {
    "name": "ipython",
    "version": 3
   },
   "file_extension": ".py",
   "mimetype": "text/x-python",
   "name": "python",
   "nbconvert_exporter": "python",
   "pygments_lexer": "ipython3",
   "version": "3.10.13"
  }
 },
 "nbformat": 4,
 "nbformat_minor": 2
}
