{
 "cells": [
  {
   "cell_type": "markdown",
   "metadata": {},
   "source": [
    "# Medidas de Dispersión\n",
    "\n",
    "Las medidas de dispersión son estadísticas que nos ayudan a entender cuán dispersos o concentrados están los datos alrededor de una medida central (como la media). Estas medidas son esenciales para evaluar la variabilidad de los datos y obtener una imagen completa de su distribución.\n",
    "\n",
    "Las principales medidas de dispersión incluyen la desviación estándar, la varianza, el rango y el rango intercuartílico. Cada una de estas medidas proporciona una perspectiva diferente sobre la variabilidad de los datos.\n",
    "\n",
    "## Desviación Estándar\n",
    "\n",
    "La desviación estándar es una medida de dispersión que nos indica cuánto varían los valores en un conjunto de datos en relación con la media. Es una de las medidas de dispersión más utilizadas y se expresa en las mismas unidades que los datos originales, lo que facilita su interpretación.\n",
    "\n",
    "Para calcular la desviación estándar:\n",
    "1. Calcula la media del conjunto de datos.\n",
    "2. Resta la media de cada valor para obtener las desviaciones.\n",
    "3. Eleva al cuadrado cada una de las desviaciones.\n",
    "4. Calcula la media de los valores al cuadrado.\n",
    "5. Toma la raíz cuadrada de la varianza para obtener la desviación estándar.\n",
    "\n",
    "La fórmula para la desviación estándar $\\sigma$ de un conjunto de datos $x_1, x_2, \\ldots, x_n$ es:\n",
    "\n",
    "$$ \\sigma = \\sqrt{\\frac{1}{n-1} \\sum_{i=1}^{n} (x_i - \\bar{x})^2} $$\n",
    "\n",
    "A continuación, se muestra cómo calcular la desviación estándar en Python utilizando una lista de pesos simulados de personas.\n"
   ]
  },
  {
   "cell_type": "code",
   "execution_count": null,
   "metadata": {},
   "outputs": [],
   "source": [
    "import math\n",
    "\n",
    "# Lista de pesos en kilogramos\n",
    "weights = [70, 72, 68, 65, 80, 77, 74, 71, 69, 73, 75, 78, 76, 67, 66, 79, 64, 63, 81, 82, 72, 70, 68, 73, 74, 65, 77, 76, 69, 71]\n",
    "\n",
    "# Calcular la media\n",
    "sum_weights = sum(weights)\n",
    "mean_weight = sum_weights / len(weights)\n",
    "\n",
    "# Calcular la suma de los cuadrados de las desviaciones\n",
    "sum_squared_diff = 0\n",
    "for weight in weights:\n",
    "    sum_squared_diff += (weight - mean_weight) ** 2\n",
    "\n",
    "# Calcular la desviación estándar\n",
    "std_dev_weight = math.sqrt(sum_squared_diff / (len(weights)-1))\n",
    "\n",
    "print(f\"Desviación Estándar: {std_dev_weight}\")"
   ]
  },
  {
   "cell_type": "markdown",
   "metadata": {},
   "source": [
    "## Varianza\n",
    "\n",
    "La varianza es una medida de dispersión que nos indica cuánto varían los valores en un conjunto de datos en relación con la media. A diferencia de la desviación estándar, que se expresa en las mismas unidades que los datos originales, la varianza se expresa en unidades al cuadrado. La varianza es útil para entender la variabilidad de los datos y es el primer paso para calcular la desviación estándar.\n",
    "\n",
    "Para calcular la varianza:\n",
    "1. Calcula la media del conjunto de datos.\n",
    "2. Resta la media de cada valor para obtener las desviaciones.\n",
    "3. Eleva al cuadrado cada una de las desviaciones.\n",
    "4. Calcula la media de estos valores al cuadrado.\n",
    "\n",
    "La fórmula para la varianza $\\sigma^2$ de un conjunto de datos $x_1, x_2, \\ldots, x_n$ es:\n",
    "\n",
    "$$ \\sigma^2 = \\frac{1}{n-1} \\sum_{i=1}^{n} (x_i - \\bar{x})^2 $$\n"
   ]
  },
  {
   "cell_type": "code",
   "execution_count": null,
   "metadata": {},
   "outputs": [],
   "source": [
    "# Lista de pesos en kilogramos\n",
    "weights = [70, 72, 68, 65, 80, 77, 74, 71, 69, 73, 75, 78, 76, 67, 66, 79, 64, 63, 81, 82, 72, 70, 68, 73, 74, 65, 77, 76, 69, 71]\n",
    "\n",
    "# Calcular la media\n",
    "sum_weights = sum(weights)\n",
    "mean_weight = sum_weights / len(weights)\n",
    "\n",
    "# Calcular la suma de los cuadrados de las desviaciones\n",
    "sum_squared_diff = 0\n",
    "for weight in weights:\n",
    "    sum_squared_diff += (weight - mean_weight) ** 2\n",
    "\n",
    "# Calcular la varianza\n",
    "variance_weight = sum_squared_diff / (len(weights)-1)\n",
    "\n",
    "print(f\"Varianza: {variance_weight}\")"
   ]
  },
  {
   "cell_type": "markdown",
   "metadata": {},
   "source": [
    "## Rango\n",
    "\n",
    "El rango es una medida de dispersión que indica la diferencia entre el valor máximo y el valor mínimo en un conjunto de datos. Es una medida simple que proporciona una idea general de la extensión de los valores en el conjunto de datos. Sin embargo, el rango no proporciona información sobre cómo están distribuidos los valores entre el mínimo y el máximo.\n",
    "\n",
    "Para calcular el rango:\n",
    "1. Identifica el valor máximo en el conjunto de datos.\n",
    "2. Identifica el valor mínimo en el conjunto de datos.\n",
    "3. Resta el valor mínimo del valor máximo.\n",
    "\n",
    "La fórmula para el rango $R$ de un conjunto de datos $x_1, x_2, \\ldots, x_n$ es:\n",
    "\n",
    "$$ R = x_{\\text{max}} - x_{\\text{min}} $$\n"
   ]
  },
  {
   "cell_type": "code",
   "execution_count": null,
   "metadata": {},
   "outputs": [],
   "source": [
    "# Lista de pesos en kilogramos\n",
    "weights = [70, 72, 68, 65, 80, 77, 74, 71, 69, 73, 75, 78, 76, 67, 66, 79, 64, 63, 81, 82, 72, 70, 68, 73, 74, 65, 77, 76, 69, 71]\n",
    "\n",
    "# Calcular el valor máximo y mínimo\n",
    "max_weight = max(weights)\n",
    "min_weight = min(weights)\n",
    "\n",
    "# Calcular el rango\n",
    "range_weight = max_weight - min_weight\n",
    "\n",
    "print(f\"Rango: {range_weight}\")"
   ]
  },
  {
   "cell_type": "markdown",
   "metadata": {},
   "source": [
    "## Rango Intercuartílico\n",
    "\n",
    "El rango intercuartílico (IQR, por sus siglas en inglés) es una medida de dispersión que describe la extensión del 50% medio de los datos. Se calcula como la diferencia entre el tercer cuartil (Q3) y el primer cuartil (Q1) de un conjunto de datos. Los cuartiles dividen los datos ordenados en cuatro partes iguales, donde:\n",
    "\n",
    "- El primer cuartil (Q1) es el valor por debajo del cual se encuentra el 25% de los datos.\n",
    "- El tercer cuartil (Q3) es el valor por debajo del cual se encuentra el 75% de los datos.\n",
    "\n",
    "El IQR es útil para entender la dispersión de los valores centrales y es menos afectado por valores extremos que el rango total.\n",
    "\n",
    "Para calcular el rango intercuartílico:\n",
    "1. Ordena el conjunto de datos.\n",
    "2. Encuentra el primer cuartil (Q1).\n",
    "3. Encuentra el tercer cuartil (Q3).\n",
    "4. Resta Q1 de Q3.\n",
    "\n",
    "La fórmula para el rango intercuartílico $IQR$ de un conjunto de datos es:\n",
    "\n",
    "$$ IQR = Q3 - Q1 $$"
   ]
  },
  {
   "cell_type": "code",
   "execution_count": null,
   "metadata": {},
   "outputs": [],
   "source": [
    "# Lista de pesos en kilogramos\n",
    "weights = [70, 72, 68, 65, 80, 77, 74, 71, 69, 73, 75, 78, 76, 67, 66, 79, 64, 63, 81, 82, 72, 70, 68, 73, 74, 65, 77, 76, 69, 71]\n",
    "\n",
    "# Ordenar la lista de pesos\n",
    "sorted_weights = sorted(weights)\n",
    "\n",
    "# Función para calcular el cuartil\n",
    "def calculate_percentile(data, percentile):\n",
    "    k = (len(data) - 1) * percentile\n",
    "    f = math.floor(k) # Índice del valor inferior\n",
    "    c = math.ceil(k) # Índice del valor superior\n",
    "    if f == c:\n",
    "        return data[int(k)]\n",
    "    return data[int(f)] * (c - k) + data[int(c)] * (k - f)\n",
    "\n",
    "# Calcular Q1 y Q3\n",
    "Q1 = calculate_percentile(sorted_weights, 0.25)\n",
    "Q3 = calculate_percentile(sorted_weights, 0.75)\n",
    "\n",
    "# Calcular el rango intercuartílico\n",
    "IQR = Q3 - Q1\n",
    "\n",
    "print(f\"Rango Intercuartílico (IQR): {IQR}\")"
   ]
  },
  {
   "cell_type": "markdown",
   "metadata": {},
   "source": [
    "## Uso de la Biblioteca `statistics` en Python\n",
    "\n",
    "La biblioteca `statistics` en Python proporciona funciones predefinidas para calcular diversas medidas de dispersión, como la desviación estándar, la varianza y el rango intercuartílico. Estas funciones simplifican los cálculos y permiten trabajar de manera más eficiente con conjuntos de datos grandes y complejos."
   ]
  },
  {
   "cell_type": "code",
   "execution_count": null,
   "metadata": {},
   "outputs": [],
   "source": [
    "import statistics\n",
    "\n",
    "# Lista de pesos en kilogramos\n",
    "weights = [70, 72, 68, 65, 80, 77, 74, 71, 69, 73, 75, 78, 76, 67, 66, 79, 64, 63, 81, 82, 72, 70, 68, 73, 74, 65, 77, 76, 69, 71]\n",
    "\n",
    "# Calcular la desviación estándar\n",
    "std_dev_weight = statistics.stdev(weights)\n",
    "\n",
    "# Calcular la varianza\n",
    "variance_weight = statistics.variance(weights)\n",
    "\n",
    "# Calcular el rango\n",
    "range_weight = max(weights) - min(weights)\n",
    "\n",
    "# Calcular el rango intercuartílico (IQR)\n",
    "# Nota: La biblioteca `statistics` no tiene una función directa para el IQR, pero podemos calcularlo usando los percentiles\n",
    "Q1 = statistics.quantiles(weights, n=4)[0]\n",
    "Q3 = statistics.quantiles(weights, n=4)[2]\n",
    "IQR = Q3 - Q1\n",
    "\n",
    "print(f\"Desviación Estándar: {std_dev_weight}\")\n",
    "print(f\"Varianza: {variance_weight}\")\n",
    "print(f\"Rango: {range_weight}\")\n",
    "print(f\"Rango Intercuartílico (IQR): {IQR}\")"
   ]
  }
 ],
 "metadata": {
  "kernelspec": {
   "display_name": "base",
   "language": "python",
   "name": "python3"
  },
  "language_info": {
   "codemirror_mode": {
    "name": "ipython",
    "version": 3
   },
   "file_extension": ".py",
   "mimetype": "text/x-python",
   "name": "python",
   "nbconvert_exporter": "python",
   "pygments_lexer": "ipython3",
   "version": "3.10.13"
  }
 },
 "nbformat": 4,
 "nbformat_minor": 2
}
