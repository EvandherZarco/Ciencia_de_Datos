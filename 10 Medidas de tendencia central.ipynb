{
 "cells": [
  {
   "cell_type": "markdown",
   "metadata": {},
   "source": [
    "# Medidas de Tendencia Central\n",
    "\n",
    "Las medidas de tendencia central son estadísticas que describen el valor central típico en un conjunto de datos. Estas medidas nos ayudan a identificar el punto medio alrededor del cual se agrupan los datos. Las tres medidas de tendencia central más comunes son la media, la mediana y la moda.\n",
    "\n",
    "## La Media\n",
    "\n",
    "La media, también conocida como promedio, es una medida de tendencia central que se calcula sumando todos los valores en un conjunto de datos y dividiendo el total por el número de valores. La fórmula para la media $\\bar{x}$ de un conjunto de datos $x_1, x_2, \\ldots, x_n$ es:\n",
    "\n",
    "$$ \\bar{x} = \\frac{1}{n} \\sum_{i=1}^{n} x_i $$\n",
    "\n",
    "A continuación, se muestra cómo calcular la media en Python utilizando un ciclo `for` y una lista de alturas simuladas de personas.\n"
   ]
  },
  {
   "cell_type": "code",
   "execution_count": null,
   "metadata": {},
   "outputs": [],
   "source": [
    "# Lista de alturas en centímetros\n",
    "heights = [172, 168, 155, 180, 170, 175, 165, 169, 173, 162, 177, 178, 165, 158, 174, 171, 159, 167, 176, 161, 165, 172, 165]\n",
    "\n",
    "# Inicializar la suma de las alturas\n",
    "sum_heights = 0\n",
    "\n",
    "# Calcular la suma de todas las alturas\n",
    "for height in heights:\n",
    "    sum_heights += height\n",
    "\n",
    "# Calcular la media\n",
    "mean_height = sum_heights / len(heights)\n",
    "\n",
    "# Imprimir la media\n",
    "print(\"La media de las alturas es:\", mean_height)"
   ]
  },
  {
   "cell_type": "markdown",
   "metadata": {},
   "source": [
    "## La Mediana\n",
    "\n",
    "La mediana es una medida de tendencia central que representa el valor central de un conjunto de datos cuando estos están ordenados de menor a mayor. Es el número que se encuentra en el medio de la lista, de manera que la mitad de los valores son menores que él y la otra mitad son mayores.\n",
    "\n",
    "Para calcular la mediana:\n",
    "1. Ordena los datos de menor a mayor.\n",
    "2. Si el número de datos es impar, la mediana es el valor que está exactamente en la mitad de la lista.\n",
    "3. Si el número de datos es par, la mediana es el promedio de los dos valores que están en el centro de la lista.\n",
    "\n",
    "La mediana es útil porque no se ve afectada por valores extremadamente altos o bajos, a diferencia de la media."
   ]
  },
  {
   "cell_type": "code",
   "execution_count": null,
   "metadata": {},
   "outputs": [],
   "source": [
    "# Lista de alturas en centímetros\n",
    "heights = [172, 168, 155, 180, 170, 175, 165, 169, 173, 162, 177, 178, 165, 158, 174, 171, 159, 167, 176, 161, 165, 172, 165]\n",
    "\n",
    "# Ordenar la lista de alturas\n",
    "sorted_heights = sorted(heights)\n",
    "\n",
    "# Calcular la mediana\n",
    "n = len(sorted_heights)\n",
    "if n % 2 == 1:\n",
    "    # Si el número de elementos es impar, la mediana es el valor central\n",
    "    median_height = sorted_heights[n // 2]\n",
    "else:\n",
    "    # Si el número de elementos es par, la mediana es el promedio de los dos valores centrales\n",
    "    median_height = (sorted_heights[n // 2 - 1] + sorted_heights[n // 2]) / 2\n",
    "\n",
    "# Imprimir la mediana\n",
    "print(\"La mediana de las alturas es:\", median_height)"
   ]
  },
  {
   "cell_type": "markdown",
   "metadata": {},
   "source": [
    "## La Moda\n",
    "\n",
    "La moda es una medida de tendencia central que indica el valor que aparece con mayor frecuencia en un conjunto de datos. A diferencia de la media y la mediana, la moda puede ser usada tanto para datos numéricos como categóricos. En algunos conjuntos de datos, puede haber más de una moda (multimodal) si varios valores se repiten con la misma frecuencia.\n",
    "\n",
    "Para calcular la moda:\n",
    "1. Cuenta la frecuencia de cada valor en el conjunto de datos.\n",
    "2. Identifica el valor que tiene la mayor frecuencia.\n",
    "\n",
    "La moda es especialmente útil para datos categóricos, donde queremos saber cuál es la categoría más común."
   ]
  },
  {
   "cell_type": "code",
   "execution_count": null,
   "metadata": {},
   "outputs": [],
   "source": [
    "# Lista de alturas en centímetros\n",
    "heights = [172, 168, 155, 180, 170, 175, 165, 169, 173, 162, 177, 178, 165, 158, 174, 171, 159, 167, 176, 161, 165, 172, 165]\n",
    "\n",
    "# Inicializar un diccionario para contar la frecuencia de cada altura\n",
    "frequency = {}\n",
    "\n",
    "# Contar la frecuencia de cada altura\n",
    "for height in heights:\n",
    "    if height in frequency:\n",
    "        frequency[height] += 1\n",
    "    else:\n",
    "        frequency[height] = 1\n",
    "\n",
    "# Identificar la moda\n",
    "max_frequency = max(frequency.values())\n",
    "modes = []\n",
    "for key, value in frequency.items():\n",
    "    if value == max_frequency:\n",
    "        modes.append(key)\n",
    "\n",
    "# Imprimir la moda\n",
    "print(\"La(s) moda(s) de las alturas es(son):\", modes)"
   ]
  },
  {
   "cell_type": "markdown",
   "metadata": {},
   "source": [
    "## Uso de Bibliotecas para Medidas de Tendencia Central\n",
    "\n",
    "En Python, existen bibliotecas que ya tienen implementadas funciones para calcular medidas de tendencia central como la media, la mediana y la moda. Estas bibliotecas simplifican el proceso de cálculo y son muy útiles para trabajar con conjuntos de datos grandes y complejos. Una de las bibliotecas más comunes es `statistics`.\n",
    "\n",
    "La biblioteca `statistics` en Python proporciona funciones predefinidas para calcular la media, mediana y moda de manera eficiente. A continuación, se muestra un ejemplo de cómo utilizar estas funciones para calcular las medidas de tendencia central de un conjunto de datos de edades."
   ]
  },
  {
   "cell_type": "code",
   "execution_count": null,
   "metadata": {},
   "outputs": [],
   "source": [
    "import statistics\n",
    "\n",
    "# Lista de alturas en centímetros\n",
    "heights = [172, 168, 155, 180, 170, 175, 165, 169, 173, 162, 177, 178, 165, 158, 174, 171, 159, 167, 176, 161, 165, 172, 165]\n",
    "\n",
    "# Calcular la media\n",
    "mean_height = statistics.mean(heights)\n",
    "\n",
    "# Calcular la mediana\n",
    "median_height = statistics.median(heights)\n",
    "\n",
    "# Calcular la moda\n",
    "mode_height = statistics.mode(heights)\n",
    "\n",
    "print(f\"Mean: {mean_height}\")\n",
    "print(f\"Median: {median_height}\")\n",
    "print(f\"Mode: {mode_height}\")"
   ]
  },
  {
   "cell_type": "markdown",
   "metadata": {},
   "source": [
    "## Distribución de Datos\n",
    "\n",
    "La distribución de datos describe cómo se dispersan o agrupan los valores de un conjunto de datos. Nos muestra la frecuencia con la que ocurren diferentes valores y nos ayuda a entender el patrón general de los datos. Una de las formas más comunes de visualizar la distribución de datos es mediante un histograma.\n",
    "\n",
    "Un histograma es un gráfico de barras que representa la frecuencia de diferentes rangos de valores en un conjunto de datos. Cada barra en el histograma muestra cuántos valores del conjunto de datos caen dentro de un rango específico. Esto nos permite ver de manera visual cómo están distribuidos los datos, identificar valores típicos, y detectar la presencia de valores extremos o atípicos.\n",
    "\n",
    "Por ejemplo, si tenemos un conjunto de datos que representa las alturas de personas, un histograma nos mostrará cuántas personas tienen alturas dentro de ciertos intervalos (por ejemplo, cuántas personas miden entre 160-165 cm, 165-170 cm, etc.).\n",
    "\n",
    "A continuación, se muestra cómo crear un histograma en Python utilizando la biblioteca `matplotlib`."
   ]
  },
  {
   "cell_type": "code",
   "execution_count": null,
   "metadata": {},
   "outputs": [],
   "source": [
    "import matplotlib.pyplot as plt\n",
    "\n",
    "# Lista de alturas en centímetros\n",
    "heights = [160, 172, 168, 155, 180, 170, 175, 165, 169, 173, 162, 177, 178, 165, 158, 174, 171, 159, 167, 176, 161, 165, 172, 165]\n",
    "\n",
    "# Crear el histograma\n",
    "plt.hist(heights, bins=10, edgecolor='black')\n",
    "\n",
    "# Añadir títulos y etiquetas\n",
    "plt.title('Distribución de Alturas')\n",
    "plt.xlabel('Altura (cm)')\n",
    "plt.ylabel('Frecuencia')\n",
    "\n",
    "# Mostrar el histograma\n",
    "plt.show()"
   ]
  }
 ],
 "metadata": {
  "kernelspec": {
   "display_name": "base",
   "language": "python",
   "name": "python3"
  },
  "language_info": {
   "codemirror_mode": {
    "name": "ipython",
    "version": 3
   },
   "file_extension": ".py",
   "mimetype": "text/x-python",
   "name": "python",
   "nbconvert_exporter": "python",
   "pygments_lexer": "ipython3",
   "version": "3.10.13"
  }
 },
 "nbformat": 4,
 "nbformat_minor": 2
}
